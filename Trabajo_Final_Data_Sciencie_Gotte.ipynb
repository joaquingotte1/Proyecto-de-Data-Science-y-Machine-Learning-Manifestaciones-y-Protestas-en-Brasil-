{
  "cells": [
    {
      "cell_type": "markdown",
      "source": [
        "# **Introduccion**"
      ],
      "metadata": {
        "id": "jIVxo0Y_U3jK"
      }
    },
    {
      "cell_type": "markdown",
      "source": [
        "\n",
        "En los últimos años, Brasil ha sido escenario de un marcado aumento en las manifestaciones y protestas que han sacudido las calles del país. Desde la gigantesca nación amazónica hasta las bulliciosas ciudades del sur, los brasileños han alzado sus voces en busca de cambios significativos en diversas áreas de la sociedad.\n",
        "\n",
        "Estas protestas han reflejado la creciente insatisfacción de la población brasileña con una serie de problemas urgentes. La corrupción política, la crisis económica, los recortes en el gasto público, la violencia policial y las desigualdades sociales han sido algunos de los principales motivos que han llevado a las masas a movilizarse en todo el país.\n",
        "\n",
        "Uno de los eventos más significativos en la historia reciente de Brasil fue la ola de manifestaciones que se desencadenó a partir del año 2018. Inicialmente impulsadas por el aumento de las tarifas del transporte público, estas protestas se convirtieron en una expresión generalizada de indignación contra la corrupción y la mala gestión gubernamental. Las manifestaciones congregaron a millones de personas en las calles de ciudades como Río de Janeiro, Sao Paulo y Brasilia, y tuvieron un impacto duradero en el país.\n",
        "\n",
        "En años posteriores, las protestas se han diversificado en sus demandas y en las personas que participan en ellas. Movimientos sociales, estudiantes, trabajadores, grupos indígenas y defensores de los derechos humanos se han unido en un coro de voces exigiendo justicia y cambios en diversas áreas de la sociedad brasileña.\n",
        "\n",
        "Estas protestas han llevado a avances significativos. Desde reformas políticas y cambios en la legislación hasta un mayor escrutinio de la corrupción y una mayor conciencia sobre los derechos humanos, las manifestaciones han demostrado su poder para generar impacto y catalizar transformaciones.\n",
        "\n",
        "En este reporte , exploraremos algunas de las protestas más destacadas ocurridas en Brasil en los últimos cinco años. Analizaremos las caracteristicas de estas movilizaciones, así como tambien buscaremos indagar y mostrar al publico de interes la situacion del pais. A través de estas narrativas y visualizaciones, podremos comprender mejor el espíritu de lucha y la resiliencia del pueblo brasileño en su búsqueda de un futuro más justo y equitativo.\n",
        "\n",
        "Este reporte va dirigido a todo aquel que este interesado por conocer la situacion de la sociedad brasileña, es de caracter publico por lo que puede utilizarse o tomar informacion relevante para otros analisis y o investigaciones que enriquescan la informacion circundante.\n",
        "Nuestro objetivo base, es analizar la informacion y explotar nuestra fuente de datos sobre las movilizaciones de los ultimos años en nuestro pais y aportar conocimiento de causa con el fin de mejorar la situacion politica y social."
      ],
      "metadata": {
        "id": "wHpDGhnyU7tx"
      }
    },
    {
      "cell_type": "markdown",
      "source": [
        "## **Preguntas Problemas:**"
      ],
      "metadata": {
        "id": "gL1CbghqVhGb"
      }
    },
    {
      "cell_type": "markdown",
      "source": [
        "Las preguntas problemas que nos movilizan para realizar este estudio son las siguientes:\n",
        "\n",
        "1) ¿Cuál es la distribución de los diferentes tipos de eventos? ¿Cuáles son los tipos de eventos más comunes y los menos comunes?\n",
        "\n",
        "2) ¿Cuáles son los tipos de eventos que han resultado en el mayor número de fatalidades?\n",
        "\n",
        "3) ¿Cómo varía la cantidad de eventos a lo largo del tiempo? ¿Hay patrones estacionales o tendencias a lo largo de los años?\n",
        "\n",
        "4) ¿Cómo podemos clasificar la ocurrencia de los tipos de eventos en Brasil en función de la informacion con las que contamos? ¿Cuáles son las variables o factores más influyentes para lograr una clasificacion precisa de los eventos?"
      ],
      "metadata": {
        "id": "jhNAN2L3VpDi"
      }
    },
    {
      "cell_type": "markdown",
      "source": [
        "## **Objetivos :**"
      ],
      "metadata": {
        "id": "IWLEoDb-ZnF6"
      }
    },
    {
      "cell_type": "markdown",
      "source": [
        "1) Analizar y describir la distribución de los diferentes tipos de eventos presentes en el conjunto de datos, identificando cuáles son los tipos de eventos más comunes y cuáles son los menos comunes.\n",
        "\n",
        "2) Identificar y examinar en detalle los tipos de eventos que han resultado en el mayor número de fatalidades.\n",
        "\n",
        "3) Evaluar la variación de la cantidad de eventos a lo largo del tiempo y determinar si existen patrones estacionales o tendencias a lo largo de los años.\n",
        "\n",
        "4) Desarrollar modelos de Inteligencia Artificial para clasificar la ocurrencia de diferentes tipos de eventos en Brasil, utilizando la información disponible en el conjunto de datos. Además, identificar y evaluar las variables o factores más influyentes que contribuyen a una clasificación precisa de los eventos."
      ],
      "metadata": {
        "id": "1bCUo0p3ZtgK"
      }
    },
    {
      "cell_type": "markdown",
      "metadata": {
        "id": "b3WUdrYGaJAw"
      },
      "source": [
        "# **Dataset**\n",
        "\n"
      ]
    },
    {
      "cell_type": "markdown",
      "metadata": {
        "id": "7MpZ_3loA5sW"
      },
      "source": [
        "## **Importo Dataset Violencia y Protestas en Brazil**"
      ]
    },
    {
      "cell_type": "code",
      "execution_count": 1,
      "metadata": {
        "id": "yZrcsyPuBIMm",
        "colab": {
          "base_uri": "https://localhost:8080/",
          "height": 678
        },
        "outputId": "aa63bc80-aa62-4839-c7be-3d40369475b4"
      },
      "outputs": [
        {
          "output_type": "stream",
          "name": "stdout",
          "text": [
            "Mounted at /content/gdrive\n",
            "/content/gdrive/MyDrive\n"
          ]
        },
        {
          "output_type": "execute_result",
          "data": {
            "text/plain": [
              "        EVENT_DATE                  EVENT_TYPE    SUB_EVENT_TYPE  \\\n",
              "0  01-January-2018                    Protests  Peaceful protest   \n",
              "1  01-January-2018                    Protests  Peaceful protest   \n",
              "2  01-January-2018  Violence against civilians            Attack   \n",
              "3  01-January-2018  Violence against civilians            Attack   \n",
              "4  01-January-2018  Violence against civilians            Attack   \n",
              "\n",
              "                                    ACTOR1              ACTOR2 COUNTRY  \\\n",
              "0                      Protesters (Brazil)                 NaN  Brazil   \n",
              "1                      Protesters (Brazil)                 NaN  Brazil   \n",
              "2        Unidentified Armed Group (Brazil)  Civilians (Brazil)  Brazil   \n",
              "3  Unidentified Gang and/or Police Militia  Civilians (Brazil)  Brazil   \n",
              "4        Unidentified Armed Group (Brazil)  Civilians (Brazil)  Brazil   \n",
              "\n",
              "                   LOCATION  LATITUDE  LONGITUDE SOURCE_SCALE  \\\n",
              "0                  Teresina   -5089.0   -42802.0     National   \n",
              "1                    Cuiaba  -15596.0   -56097.0     National   \n",
              "2  Santa Cruz do Capibaribe   -7948.0   -36206.0     National   \n",
              "3                 Petrolina   -9389.0   -40503.0     National   \n",
              "4                  Floriano   -6773.0   -43012.0     National   \n",
              "\n",
              "                                               NOTES  FATALITIES Unnamed: 12  \\\n",
              "0  At the beginning of January 2018, in Teresina,...         0.0         NaN   \n",
              "1  On 1 January 2018, local residents protested i...         0.0         NaN   \n",
              "2  On 1 January 2018, in Santa Cruz do Capibaribe...         2.0         NaN   \n",
              "3  On 1 January 2018, Petrolina, Pernambuco, a ma...         1.0         NaN   \n",
              "4  On 1 January 2018, in Floriano, Piaui, a man w...         1.0         NaN   \n",
              "\n",
              "  Unnamed: 13 Unnamed: 14 Unnamed: 15 Unnamed: 16  \n",
              "0         NaN         NaN         NaN         NaN  \n",
              "1         NaN         NaN         NaN         NaN  \n",
              "2         NaN         NaN         NaN         NaN  \n",
              "3         NaN         NaN         NaN         NaN  \n",
              "4         NaN         NaN         NaN         NaN  "
            ],
            "text/html": [
              "\n",
              "  <div id=\"df-da46f981-d2f9-4d8e-a3bb-160a0f71def4\" class=\"colab-df-container\">\n",
              "    <div>\n",
              "<style scoped>\n",
              "    .dataframe tbody tr th:only-of-type {\n",
              "        vertical-align: middle;\n",
              "    }\n",
              "\n",
              "    .dataframe tbody tr th {\n",
              "        vertical-align: top;\n",
              "    }\n",
              "\n",
              "    .dataframe thead th {\n",
              "        text-align: right;\n",
              "    }\n",
              "</style>\n",
              "<table border=\"1\" class=\"dataframe\">\n",
              "  <thead>\n",
              "    <tr style=\"text-align: right;\">\n",
              "      <th></th>\n",
              "      <th>EVENT_DATE</th>\n",
              "      <th>EVENT_TYPE</th>\n",
              "      <th>SUB_EVENT_TYPE</th>\n",
              "      <th>ACTOR1</th>\n",
              "      <th>ACTOR2</th>\n",
              "      <th>COUNTRY</th>\n",
              "      <th>LOCATION</th>\n",
              "      <th>LATITUDE</th>\n",
              "      <th>LONGITUDE</th>\n",
              "      <th>SOURCE_SCALE</th>\n",
              "      <th>NOTES</th>\n",
              "      <th>FATALITIES</th>\n",
              "      <th>Unnamed: 12</th>\n",
              "      <th>Unnamed: 13</th>\n",
              "      <th>Unnamed: 14</th>\n",
              "      <th>Unnamed: 15</th>\n",
              "      <th>Unnamed: 16</th>\n",
              "    </tr>\n",
              "  </thead>\n",
              "  <tbody>\n",
              "    <tr>\n",
              "      <th>0</th>\n",
              "      <td>01-January-2018</td>\n",
              "      <td>Protests</td>\n",
              "      <td>Peaceful protest</td>\n",
              "      <td>Protesters (Brazil)</td>\n",
              "      <td>NaN</td>\n",
              "      <td>Brazil</td>\n",
              "      <td>Teresina</td>\n",
              "      <td>-5089.0</td>\n",
              "      <td>-42802.0</td>\n",
              "      <td>National</td>\n",
              "      <td>At the beginning of January 2018, in Teresina,...</td>\n",
              "      <td>0.0</td>\n",
              "      <td>NaN</td>\n",
              "      <td>NaN</td>\n",
              "      <td>NaN</td>\n",
              "      <td>NaN</td>\n",
              "      <td>NaN</td>\n",
              "    </tr>\n",
              "    <tr>\n",
              "      <th>1</th>\n",
              "      <td>01-January-2018</td>\n",
              "      <td>Protests</td>\n",
              "      <td>Peaceful protest</td>\n",
              "      <td>Protesters (Brazil)</td>\n",
              "      <td>NaN</td>\n",
              "      <td>Brazil</td>\n",
              "      <td>Cuiaba</td>\n",
              "      <td>-15596.0</td>\n",
              "      <td>-56097.0</td>\n",
              "      <td>National</td>\n",
              "      <td>On 1 January 2018, local residents protested i...</td>\n",
              "      <td>0.0</td>\n",
              "      <td>NaN</td>\n",
              "      <td>NaN</td>\n",
              "      <td>NaN</td>\n",
              "      <td>NaN</td>\n",
              "      <td>NaN</td>\n",
              "    </tr>\n",
              "    <tr>\n",
              "      <th>2</th>\n",
              "      <td>01-January-2018</td>\n",
              "      <td>Violence against civilians</td>\n",
              "      <td>Attack</td>\n",
              "      <td>Unidentified Armed Group (Brazil)</td>\n",
              "      <td>Civilians (Brazil)</td>\n",
              "      <td>Brazil</td>\n",
              "      <td>Santa Cruz do Capibaribe</td>\n",
              "      <td>-7948.0</td>\n",
              "      <td>-36206.0</td>\n",
              "      <td>National</td>\n",
              "      <td>On 1 January 2018, in Santa Cruz do Capibaribe...</td>\n",
              "      <td>2.0</td>\n",
              "      <td>NaN</td>\n",
              "      <td>NaN</td>\n",
              "      <td>NaN</td>\n",
              "      <td>NaN</td>\n",
              "      <td>NaN</td>\n",
              "    </tr>\n",
              "    <tr>\n",
              "      <th>3</th>\n",
              "      <td>01-January-2018</td>\n",
              "      <td>Violence against civilians</td>\n",
              "      <td>Attack</td>\n",
              "      <td>Unidentified Gang and/or Police Militia</td>\n",
              "      <td>Civilians (Brazil)</td>\n",
              "      <td>Brazil</td>\n",
              "      <td>Petrolina</td>\n",
              "      <td>-9389.0</td>\n",
              "      <td>-40503.0</td>\n",
              "      <td>National</td>\n",
              "      <td>On 1 January 2018, Petrolina, Pernambuco, a ma...</td>\n",
              "      <td>1.0</td>\n",
              "      <td>NaN</td>\n",
              "      <td>NaN</td>\n",
              "      <td>NaN</td>\n",
              "      <td>NaN</td>\n",
              "      <td>NaN</td>\n",
              "    </tr>\n",
              "    <tr>\n",
              "      <th>4</th>\n",
              "      <td>01-January-2018</td>\n",
              "      <td>Violence against civilians</td>\n",
              "      <td>Attack</td>\n",
              "      <td>Unidentified Armed Group (Brazil)</td>\n",
              "      <td>Civilians (Brazil)</td>\n",
              "      <td>Brazil</td>\n",
              "      <td>Floriano</td>\n",
              "      <td>-6773.0</td>\n",
              "      <td>-43012.0</td>\n",
              "      <td>National</td>\n",
              "      <td>On 1 January 2018, in Floriano, Piaui, a man w...</td>\n",
              "      <td>1.0</td>\n",
              "      <td>NaN</td>\n",
              "      <td>NaN</td>\n",
              "      <td>NaN</td>\n",
              "      <td>NaN</td>\n",
              "      <td>NaN</td>\n",
              "    </tr>\n",
              "  </tbody>\n",
              "</table>\n",
              "</div>\n",
              "    <div class=\"colab-df-buttons\">\n",
              "\n",
              "  <div class=\"colab-df-container\">\n",
              "    <button class=\"colab-df-convert\" onclick=\"convertToInteractive('df-da46f981-d2f9-4d8e-a3bb-160a0f71def4')\"\n",
              "            title=\"Convert this dataframe to an interactive table.\"\n",
              "            style=\"display:none;\">\n",
              "\n",
              "  <svg xmlns=\"http://www.w3.org/2000/svg\" height=\"24px\" viewBox=\"0 -960 960 960\">\n",
              "    <path d=\"M120-120v-720h720v720H120Zm60-500h600v-160H180v160Zm220 220h160v-160H400v160Zm0 220h160v-160H400v160ZM180-400h160v-160H180v160Zm440 0h160v-160H620v160ZM180-180h160v-160H180v160Zm440 0h160v-160H620v160Z\"/>\n",
              "  </svg>\n",
              "    </button>\n",
              "\n",
              "  <style>\n",
              "    .colab-df-container {\n",
              "      display:flex;\n",
              "      gap: 12px;\n",
              "    }\n",
              "\n",
              "    .colab-df-convert {\n",
              "      background-color: #E8F0FE;\n",
              "      border: none;\n",
              "      border-radius: 50%;\n",
              "      cursor: pointer;\n",
              "      display: none;\n",
              "      fill: #1967D2;\n",
              "      height: 32px;\n",
              "      padding: 0 0 0 0;\n",
              "      width: 32px;\n",
              "    }\n",
              "\n",
              "    .colab-df-convert:hover {\n",
              "      background-color: #E2EBFA;\n",
              "      box-shadow: 0px 1px 2px rgba(60, 64, 67, 0.3), 0px 1px 3px 1px rgba(60, 64, 67, 0.15);\n",
              "      fill: #174EA6;\n",
              "    }\n",
              "\n",
              "    .colab-df-buttons div {\n",
              "      margin-bottom: 4px;\n",
              "    }\n",
              "\n",
              "    [theme=dark] .colab-df-convert {\n",
              "      background-color: #3B4455;\n",
              "      fill: #D2E3FC;\n",
              "    }\n",
              "\n",
              "    [theme=dark] .colab-df-convert:hover {\n",
              "      background-color: #434B5C;\n",
              "      box-shadow: 0px 1px 3px 1px rgba(0, 0, 0, 0.15);\n",
              "      filter: drop-shadow(0px 1px 2px rgba(0, 0, 0, 0.3));\n",
              "      fill: #FFFFFF;\n",
              "    }\n",
              "  </style>\n",
              "\n",
              "    <script>\n",
              "      const buttonEl =\n",
              "        document.querySelector('#df-da46f981-d2f9-4d8e-a3bb-160a0f71def4 button.colab-df-convert');\n",
              "      buttonEl.style.display =\n",
              "        google.colab.kernel.accessAllowed ? 'block' : 'none';\n",
              "\n",
              "      async function convertToInteractive(key) {\n",
              "        const element = document.querySelector('#df-da46f981-d2f9-4d8e-a3bb-160a0f71def4');\n",
              "        const dataTable =\n",
              "          await google.colab.kernel.invokeFunction('convertToInteractive',\n",
              "                                                    [key], {});\n",
              "        if (!dataTable) return;\n",
              "\n",
              "        const docLinkHtml = 'Like what you see? Visit the ' +\n",
              "          '<a target=\"_blank\" href=https://colab.research.google.com/notebooks/data_table.ipynb>data table notebook</a>'\n",
              "          + ' to learn more about interactive tables.';\n",
              "        element.innerHTML = '';\n",
              "        dataTable['output_type'] = 'display_data';\n",
              "        await google.colab.output.renderOutput(dataTable, element);\n",
              "        const docLink = document.createElement('div');\n",
              "        docLink.innerHTML = docLinkHtml;\n",
              "        element.appendChild(docLink);\n",
              "      }\n",
              "    </script>\n",
              "  </div>\n",
              "\n",
              "\n",
              "<div id=\"df-e605ba8b-3890-4149-93f8-04b8232b0b45\">\n",
              "  <button class=\"colab-df-quickchart\" onclick=\"quickchart('df-e605ba8b-3890-4149-93f8-04b8232b0b45')\"\n",
              "            title=\"Suggest charts.\"\n",
              "            style=\"display:none;\">\n",
              "\n",
              "<svg xmlns=\"http://www.w3.org/2000/svg\" height=\"24px\"viewBox=\"0 0 24 24\"\n",
              "     width=\"24px\">\n",
              "    <g>\n",
              "        <path d=\"M19 3H5c-1.1 0-2 .9-2 2v14c0 1.1.9 2 2 2h14c1.1 0 2-.9 2-2V5c0-1.1-.9-2-2-2zM9 17H7v-7h2v7zm4 0h-2V7h2v10zm4 0h-2v-4h2v4z\"/>\n",
              "    </g>\n",
              "</svg>\n",
              "  </button>\n",
              "\n",
              "<style>\n",
              "  .colab-df-quickchart {\n",
              "      --bg-color: #E8F0FE;\n",
              "      --fill-color: #1967D2;\n",
              "      --hover-bg-color: #E2EBFA;\n",
              "      --hover-fill-color: #174EA6;\n",
              "      --disabled-fill-color: #AAA;\n",
              "      --disabled-bg-color: #DDD;\n",
              "  }\n",
              "\n",
              "  [theme=dark] .colab-df-quickchart {\n",
              "      --bg-color: #3B4455;\n",
              "      --fill-color: #D2E3FC;\n",
              "      --hover-bg-color: #434B5C;\n",
              "      --hover-fill-color: #FFFFFF;\n",
              "      --disabled-bg-color: #3B4455;\n",
              "      --disabled-fill-color: #666;\n",
              "  }\n",
              "\n",
              "  .colab-df-quickchart {\n",
              "    background-color: var(--bg-color);\n",
              "    border: none;\n",
              "    border-radius: 50%;\n",
              "    cursor: pointer;\n",
              "    display: none;\n",
              "    fill: var(--fill-color);\n",
              "    height: 32px;\n",
              "    padding: 0;\n",
              "    width: 32px;\n",
              "  }\n",
              "\n",
              "  .colab-df-quickchart:hover {\n",
              "    background-color: var(--hover-bg-color);\n",
              "    box-shadow: 0 1px 2px rgba(60, 64, 67, 0.3), 0 1px 3px 1px rgba(60, 64, 67, 0.15);\n",
              "    fill: var(--button-hover-fill-color);\n",
              "  }\n",
              "\n",
              "  .colab-df-quickchart-complete:disabled,\n",
              "  .colab-df-quickchart-complete:disabled:hover {\n",
              "    background-color: var(--disabled-bg-color);\n",
              "    fill: var(--disabled-fill-color);\n",
              "    box-shadow: none;\n",
              "  }\n",
              "\n",
              "  .colab-df-spinner {\n",
              "    border: 2px solid var(--fill-color);\n",
              "    border-color: transparent;\n",
              "    border-bottom-color: var(--fill-color);\n",
              "    animation:\n",
              "      spin 1s steps(1) infinite;\n",
              "  }\n",
              "\n",
              "  @keyframes spin {\n",
              "    0% {\n",
              "      border-color: transparent;\n",
              "      border-bottom-color: var(--fill-color);\n",
              "      border-left-color: var(--fill-color);\n",
              "    }\n",
              "    20% {\n",
              "      border-color: transparent;\n",
              "      border-left-color: var(--fill-color);\n",
              "      border-top-color: var(--fill-color);\n",
              "    }\n",
              "    30% {\n",
              "      border-color: transparent;\n",
              "      border-left-color: var(--fill-color);\n",
              "      border-top-color: var(--fill-color);\n",
              "      border-right-color: var(--fill-color);\n",
              "    }\n",
              "    40% {\n",
              "      border-color: transparent;\n",
              "      border-right-color: var(--fill-color);\n",
              "      border-top-color: var(--fill-color);\n",
              "    }\n",
              "    60% {\n",
              "      border-color: transparent;\n",
              "      border-right-color: var(--fill-color);\n",
              "    }\n",
              "    80% {\n",
              "      border-color: transparent;\n",
              "      border-right-color: var(--fill-color);\n",
              "      border-bottom-color: var(--fill-color);\n",
              "    }\n",
              "    90% {\n",
              "      border-color: transparent;\n",
              "      border-bottom-color: var(--fill-color);\n",
              "    }\n",
              "  }\n",
              "</style>\n",
              "\n",
              "  <script>\n",
              "    async function quickchart(key) {\n",
              "      const quickchartButtonEl =\n",
              "        document.querySelector('#' + key + ' button');\n",
              "      quickchartButtonEl.disabled = true;  // To prevent multiple clicks.\n",
              "      quickchartButtonEl.classList.add('colab-df-spinner');\n",
              "      try {\n",
              "        const charts = await google.colab.kernel.invokeFunction(\n",
              "            'suggestCharts', [key], {});\n",
              "      } catch (error) {\n",
              "        console.error('Error during call to suggestCharts:', error);\n",
              "      }\n",
              "      quickchartButtonEl.classList.remove('colab-df-spinner');\n",
              "      quickchartButtonEl.classList.add('colab-df-quickchart-complete');\n",
              "    }\n",
              "    (() => {\n",
              "      let quickchartButtonEl =\n",
              "        document.querySelector('#df-e605ba8b-3890-4149-93f8-04b8232b0b45 button');\n",
              "      quickchartButtonEl.style.display =\n",
              "        google.colab.kernel.accessAllowed ? 'block' : 'none';\n",
              "    })();\n",
              "  </script>\n",
              "</div>\n",
              "    </div>\n",
              "  </div>\n"
            ]
          },
          "metadata": {},
          "execution_count": 1
        }
      ],
      "source": [
        "##importo el archivo desde Drive\n",
        "from google.colab import drive\n",
        "import pandas as pd\n",
        "import os\n",
        "import matplotlib.pyplot as plt\n",
        "import seaborn  as sns\n",
        "drive.mount('/content/gdrive')\n",
        "%cd '/content/gdrive/MyDrive/'\n",
        "df_brazil= pd.read_excel('df_bra.xlsx')\n",
        "\n",
        "df_brazil.head()"
      ]
    },
    {
      "cell_type": "markdown",
      "metadata": {
        "id": "T4m8_zuSsdA4"
      },
      "source": [
        "# **Data Wrangling**"
      ]
    },
    {
      "cell_type": "markdown",
      "metadata": {
        "id": "jQyF2qcbKHUs"
      },
      "source": [
        "## **Agrego una nueva variable para guardar los valores null del dataset**"
      ]
    },
    {
      "cell_type": "code",
      "execution_count": 2,
      "metadata": {
        "id": "d-ozlEIVCG63"
      },
      "outputs": [],
      "source": [
        "missing_data = df_brazil.isnull()"
      ]
    },
    {
      "cell_type": "markdown",
      "metadata": {
        "id": "9rp68LFFKUEs"
      },
      "source": [
        "## **Vemos que hay Valores Null y columnas Vacias**"
      ]
    },
    {
      "cell_type": "code",
      "execution_count": 3,
      "metadata": {
        "colab": {
          "base_uri": "https://localhost:8080/"
        },
        "id": "TtliHUFkHJ6V",
        "outputId": "6c56fdbe-5e8d-4c0d-a20e-9501ff7ce859"
      },
      "outputs": [
        {
          "output_type": "stream",
          "name": "stdout",
          "text": [
            "EVENT_DATE\n",
            "False    62858\n",
            "Name: EVENT_DATE, dtype: int64\n",
            "\n",
            "EVENT_TYPE\n",
            "False    62858\n",
            "Name: EVENT_TYPE, dtype: int64\n",
            "\n",
            "SUB_EVENT_TYPE\n",
            "False    62858\n",
            "Name: SUB_EVENT_TYPE, dtype: int64\n",
            "\n",
            "ACTOR1\n",
            "False    62858\n",
            "Name: ACTOR1, dtype: int64\n",
            "\n",
            "ACTOR2\n",
            "False    40513\n",
            "True     22345\n",
            "Name: ACTOR2, dtype: int64\n",
            "\n",
            "COUNTRY\n",
            "False    62858\n",
            "Name: COUNTRY, dtype: int64\n",
            "\n",
            "LOCATION\n",
            "False    62858\n",
            "Name: LOCATION, dtype: int64\n",
            "\n",
            "LATITUDE\n",
            "False    62858\n",
            "Name: LATITUDE, dtype: int64\n",
            "\n",
            "LONGITUDE\n",
            "False    62858\n",
            "Name: LONGITUDE, dtype: int64\n",
            "\n",
            "SOURCE_SCALE\n",
            "False    62858\n",
            "Name: SOURCE_SCALE, dtype: int64\n",
            "\n",
            "NOTES\n",
            "False    62858\n",
            "Name: NOTES, dtype: int64\n",
            "\n",
            "FATALITIES\n",
            "False    62039\n",
            "True       819\n",
            "Name: FATALITIES, dtype: int64\n",
            "\n",
            "Unnamed: 12\n",
            "True     62856\n",
            "False        2\n",
            "Name: Unnamed: 12, dtype: int64\n",
            "\n",
            "Unnamed: 13\n",
            "True     62856\n",
            "False        2\n",
            "Name: Unnamed: 13, dtype: int64\n",
            "\n",
            "Unnamed: 14\n",
            "True     62857\n",
            "False        1\n",
            "Name: Unnamed: 14, dtype: int64\n",
            "\n",
            "Unnamed: 15\n",
            "True     62857\n",
            "False        1\n",
            "Name: Unnamed: 15, dtype: int64\n",
            "\n",
            "Unnamed: 16\n",
            "True     62857\n",
            "False        1\n",
            "Name: Unnamed: 16, dtype: int64\n",
            "\n"
          ]
        }
      ],
      "source": [
        "for column in missing_data.columns.values.tolist():\n",
        "    print(column)\n",
        "    print (missing_data[column].value_counts())\n",
        "    print(\"\")"
      ]
    },
    {
      "cell_type": "markdown",
      "metadata": {
        "id": "H0CI35RjKdOk"
      },
      "source": [
        "##  **Borro las columnas vacias que no me sirven**"
      ]
    },
    {
      "cell_type": "code",
      "execution_count": 4,
      "metadata": {
        "id": "q60BVyyhH5_1"
      },
      "outputs": [],
      "source": [
        "df_braopti = df_brazil.drop(columns=['Unnamed: 12', 'Unnamed: 13', 'Unnamed: 14','Unnamed: 15','Unnamed: 16'])"
      ]
    },
    {
      "cell_type": "markdown",
      "metadata": {
        "id": "1vCy6bFsKpbs"
      },
      "source": [
        "## **Vemos que se borraron**"
      ]
    },
    {
      "cell_type": "code",
      "execution_count": 5,
      "metadata": {
        "colab": {
          "base_uri": "https://localhost:8080/",
          "height": 649
        },
        "id": "TSVDxmf1Ibz9",
        "outputId": "c3e6ee9d-387a-4089-da61-674daa00b0d0"
      },
      "outputs": [
        {
          "output_type": "execute_result",
          "data": {
            "text/plain": [
              "            EVENT_DATE                  EVENT_TYPE    SUB_EVENT_TYPE  \\\n",
              "0      01-January-2018                    Protests  Peaceful protest   \n",
              "1      01-January-2018                    Protests  Peaceful protest   \n",
              "2      01-January-2018  Violence against civilians            Attack   \n",
              "3      01-January-2018  Violence against civilians            Attack   \n",
              "4      01-January-2018  Violence against civilians            Attack   \n",
              "...                ...                         ...               ...   \n",
              "62853  20-January-2023                     Battles       Armed clash   \n",
              "62854  20-January-2023                     Battles       Armed clash   \n",
              "62855  20-January-2023                     Battles       Armed clash   \n",
              "62856  20-January-2023                     Battles       Armed clash   \n",
              "62857  20-January-2023  Violence against civilians            Attack   \n",
              "\n",
              "                                        ACTOR1  \\\n",
              "0                          Protesters (Brazil)   \n",
              "1                          Protesters (Brazil)   \n",
              "2            Unidentified Armed Group (Brazil)   \n",
              "3      Unidentified Gang and/or Police Militia   \n",
              "4            Unidentified Armed Group (Brazil)   \n",
              "...                                        ...   \n",
              "62853  Unidentified Gang and/or Police Militia   \n",
              "62854        Unidentified Armed Group (Brazil)   \n",
              "62855        Unidentified Armed Group (Brazil)   \n",
              "62856        Unidentified Armed Group (Brazil)   \n",
              "62857  Unidentified Gang and/or Police Militia   \n",
              "\n",
              "                                  ACTOR2 COUNTRY                     LOCATION  \\\n",
              "0                                    NaN  Brazil                     Teresina   \n",
              "1                                    NaN  Brazil                       Cuiaba   \n",
              "2                     Civilians (Brazil)  Brazil     Santa Cruz do Capibaribe   \n",
              "3                     Civilians (Brazil)  Brazil                    Petrolina   \n",
              "4                     Civilians (Brazil)  Brazil                     Floriano   \n",
              "...                                  ...     ...                          ...   \n",
              "62853         Unidentified Gang (Brazil)  Brazil                 Campo Grande   \n",
              "62854  Unidentified Armed Group (Brazil)  Brazil   Rio de Janeiro - West Zone   \n",
              "62855  Unidentified Armed Group (Brazil)  Brazil  Rio de Janeiro - North Zone   \n",
              "62856  Unidentified Armed Group (Brazil)  Brazil           Sao Joao de Meriti   \n",
              "62857                 Civilians (Brazil)  Brazil                  Divinopolis   \n",
              "\n",
              "       LATITUDE  LONGITUDE SOURCE_SCALE  \\\n",
              "0       -5089.0   -42802.0     National   \n",
              "1      -15596.0   -56097.0     National   \n",
              "2       -7948.0   -36206.0     National   \n",
              "3       -9389.0   -40503.0     National   \n",
              "4       -6773.0   -43012.0     National   \n",
              "...         ...        ...          ...   \n",
              "62853  -20443.0   -54646.0  Subnational   \n",
              "62854  -22915.0   -43488.0    New media   \n",
              "62855  -22857.0   -43301.0    New media   \n",
              "62856  -22804.0   -43372.0    New media   \n",
              "62857  -20142.0   -44889.0     National   \n",
              "\n",
              "                                                   NOTES  FATALITIES  \n",
              "0      At the beginning of January 2018, in Teresina,...         0.0  \n",
              "1      On 1 January 2018, local residents protested i...         0.0  \n",
              "2      On 1 January 2018, in Santa Cruz do Capibaribe...         2.0  \n",
              "3      On 1 January 2018, Petrolina, Pernambuco, a ma...         1.0  \n",
              "4      On 1 January 2018, in Floriano, Piaui, a man w...         1.0  \n",
              "...                                                  ...         ...  \n",
              "62853  On 20 January 2023, in Campo Grande (Mato Gros...         2.0  \n",
              "62854  On 20 January 2023, in Rio de Janeiro - West Z...         0.0  \n",
              "62855  On 20 January 2023, in Rio de Janeiro - North ...         0.0  \n",
              "62856  On 20 January 2023, in Sao Joao de Meriti (Rio...         0.0  \n",
              "62857  On 20 January 2023, in Divinopolis (Minas Gera...         1.0  \n",
              "\n",
              "[62858 rows x 12 columns]"
            ],
            "text/html": [
              "\n",
              "  <div id=\"df-0232e6f8-feae-4fe8-9f1b-c19a91b65894\" class=\"colab-df-container\">\n",
              "    <div>\n",
              "<style scoped>\n",
              "    .dataframe tbody tr th:only-of-type {\n",
              "        vertical-align: middle;\n",
              "    }\n",
              "\n",
              "    .dataframe tbody tr th {\n",
              "        vertical-align: top;\n",
              "    }\n",
              "\n",
              "    .dataframe thead th {\n",
              "        text-align: right;\n",
              "    }\n",
              "</style>\n",
              "<table border=\"1\" class=\"dataframe\">\n",
              "  <thead>\n",
              "    <tr style=\"text-align: right;\">\n",
              "      <th></th>\n",
              "      <th>EVENT_DATE</th>\n",
              "      <th>EVENT_TYPE</th>\n",
              "      <th>SUB_EVENT_TYPE</th>\n",
              "      <th>ACTOR1</th>\n",
              "      <th>ACTOR2</th>\n",
              "      <th>COUNTRY</th>\n",
              "      <th>LOCATION</th>\n",
              "      <th>LATITUDE</th>\n",
              "      <th>LONGITUDE</th>\n",
              "      <th>SOURCE_SCALE</th>\n",
              "      <th>NOTES</th>\n",
              "      <th>FATALITIES</th>\n",
              "    </tr>\n",
              "  </thead>\n",
              "  <tbody>\n",
              "    <tr>\n",
              "      <th>0</th>\n",
              "      <td>01-January-2018</td>\n",
              "      <td>Protests</td>\n",
              "      <td>Peaceful protest</td>\n",
              "      <td>Protesters (Brazil)</td>\n",
              "      <td>NaN</td>\n",
              "      <td>Brazil</td>\n",
              "      <td>Teresina</td>\n",
              "      <td>-5089.0</td>\n",
              "      <td>-42802.0</td>\n",
              "      <td>National</td>\n",
              "      <td>At the beginning of January 2018, in Teresina,...</td>\n",
              "      <td>0.0</td>\n",
              "    </tr>\n",
              "    <tr>\n",
              "      <th>1</th>\n",
              "      <td>01-January-2018</td>\n",
              "      <td>Protests</td>\n",
              "      <td>Peaceful protest</td>\n",
              "      <td>Protesters (Brazil)</td>\n",
              "      <td>NaN</td>\n",
              "      <td>Brazil</td>\n",
              "      <td>Cuiaba</td>\n",
              "      <td>-15596.0</td>\n",
              "      <td>-56097.0</td>\n",
              "      <td>National</td>\n",
              "      <td>On 1 January 2018, local residents protested i...</td>\n",
              "      <td>0.0</td>\n",
              "    </tr>\n",
              "    <tr>\n",
              "      <th>2</th>\n",
              "      <td>01-January-2018</td>\n",
              "      <td>Violence against civilians</td>\n",
              "      <td>Attack</td>\n",
              "      <td>Unidentified Armed Group (Brazil)</td>\n",
              "      <td>Civilians (Brazil)</td>\n",
              "      <td>Brazil</td>\n",
              "      <td>Santa Cruz do Capibaribe</td>\n",
              "      <td>-7948.0</td>\n",
              "      <td>-36206.0</td>\n",
              "      <td>National</td>\n",
              "      <td>On 1 January 2018, in Santa Cruz do Capibaribe...</td>\n",
              "      <td>2.0</td>\n",
              "    </tr>\n",
              "    <tr>\n",
              "      <th>3</th>\n",
              "      <td>01-January-2018</td>\n",
              "      <td>Violence against civilians</td>\n",
              "      <td>Attack</td>\n",
              "      <td>Unidentified Gang and/or Police Militia</td>\n",
              "      <td>Civilians (Brazil)</td>\n",
              "      <td>Brazil</td>\n",
              "      <td>Petrolina</td>\n",
              "      <td>-9389.0</td>\n",
              "      <td>-40503.0</td>\n",
              "      <td>National</td>\n",
              "      <td>On 1 January 2018, Petrolina, Pernambuco, a ma...</td>\n",
              "      <td>1.0</td>\n",
              "    </tr>\n",
              "    <tr>\n",
              "      <th>4</th>\n",
              "      <td>01-January-2018</td>\n",
              "      <td>Violence against civilians</td>\n",
              "      <td>Attack</td>\n",
              "      <td>Unidentified Armed Group (Brazil)</td>\n",
              "      <td>Civilians (Brazil)</td>\n",
              "      <td>Brazil</td>\n",
              "      <td>Floriano</td>\n",
              "      <td>-6773.0</td>\n",
              "      <td>-43012.0</td>\n",
              "      <td>National</td>\n",
              "      <td>On 1 January 2018, in Floriano, Piaui, a man w...</td>\n",
              "      <td>1.0</td>\n",
              "    </tr>\n",
              "    <tr>\n",
              "      <th>...</th>\n",
              "      <td>...</td>\n",
              "      <td>...</td>\n",
              "      <td>...</td>\n",
              "      <td>...</td>\n",
              "      <td>...</td>\n",
              "      <td>...</td>\n",
              "      <td>...</td>\n",
              "      <td>...</td>\n",
              "      <td>...</td>\n",
              "      <td>...</td>\n",
              "      <td>...</td>\n",
              "      <td>...</td>\n",
              "    </tr>\n",
              "    <tr>\n",
              "      <th>62853</th>\n",
              "      <td>20-January-2023</td>\n",
              "      <td>Battles</td>\n",
              "      <td>Armed clash</td>\n",
              "      <td>Unidentified Gang and/or Police Militia</td>\n",
              "      <td>Unidentified Gang (Brazil)</td>\n",
              "      <td>Brazil</td>\n",
              "      <td>Campo Grande</td>\n",
              "      <td>-20443.0</td>\n",
              "      <td>-54646.0</td>\n",
              "      <td>Subnational</td>\n",
              "      <td>On 20 January 2023, in Campo Grande (Mato Gros...</td>\n",
              "      <td>2.0</td>\n",
              "    </tr>\n",
              "    <tr>\n",
              "      <th>62854</th>\n",
              "      <td>20-January-2023</td>\n",
              "      <td>Battles</td>\n",
              "      <td>Armed clash</td>\n",
              "      <td>Unidentified Armed Group (Brazil)</td>\n",
              "      <td>Unidentified Armed Group (Brazil)</td>\n",
              "      <td>Brazil</td>\n",
              "      <td>Rio de Janeiro - West Zone</td>\n",
              "      <td>-22915.0</td>\n",
              "      <td>-43488.0</td>\n",
              "      <td>New media</td>\n",
              "      <td>On 20 January 2023, in Rio de Janeiro - West Z...</td>\n",
              "      <td>0.0</td>\n",
              "    </tr>\n",
              "    <tr>\n",
              "      <th>62855</th>\n",
              "      <td>20-January-2023</td>\n",
              "      <td>Battles</td>\n",
              "      <td>Armed clash</td>\n",
              "      <td>Unidentified Armed Group (Brazil)</td>\n",
              "      <td>Unidentified Armed Group (Brazil)</td>\n",
              "      <td>Brazil</td>\n",
              "      <td>Rio de Janeiro - North Zone</td>\n",
              "      <td>-22857.0</td>\n",
              "      <td>-43301.0</td>\n",
              "      <td>New media</td>\n",
              "      <td>On 20 January 2023, in Rio de Janeiro - North ...</td>\n",
              "      <td>0.0</td>\n",
              "    </tr>\n",
              "    <tr>\n",
              "      <th>62856</th>\n",
              "      <td>20-January-2023</td>\n",
              "      <td>Battles</td>\n",
              "      <td>Armed clash</td>\n",
              "      <td>Unidentified Armed Group (Brazil)</td>\n",
              "      <td>Unidentified Armed Group (Brazil)</td>\n",
              "      <td>Brazil</td>\n",
              "      <td>Sao Joao de Meriti</td>\n",
              "      <td>-22804.0</td>\n",
              "      <td>-43372.0</td>\n",
              "      <td>New media</td>\n",
              "      <td>On 20 January 2023, in Sao Joao de Meriti (Rio...</td>\n",
              "      <td>0.0</td>\n",
              "    </tr>\n",
              "    <tr>\n",
              "      <th>62857</th>\n",
              "      <td>20-January-2023</td>\n",
              "      <td>Violence against civilians</td>\n",
              "      <td>Attack</td>\n",
              "      <td>Unidentified Gang and/or Police Militia</td>\n",
              "      <td>Civilians (Brazil)</td>\n",
              "      <td>Brazil</td>\n",
              "      <td>Divinopolis</td>\n",
              "      <td>-20142.0</td>\n",
              "      <td>-44889.0</td>\n",
              "      <td>National</td>\n",
              "      <td>On 20 January 2023, in Divinopolis (Minas Gera...</td>\n",
              "      <td>1.0</td>\n",
              "    </tr>\n",
              "  </tbody>\n",
              "</table>\n",
              "<p>62858 rows × 12 columns</p>\n",
              "</div>\n",
              "    <div class=\"colab-df-buttons\">\n",
              "\n",
              "  <div class=\"colab-df-container\">\n",
              "    <button class=\"colab-df-convert\" onclick=\"convertToInteractive('df-0232e6f8-feae-4fe8-9f1b-c19a91b65894')\"\n",
              "            title=\"Convert this dataframe to an interactive table.\"\n",
              "            style=\"display:none;\">\n",
              "\n",
              "  <svg xmlns=\"http://www.w3.org/2000/svg\" height=\"24px\" viewBox=\"0 -960 960 960\">\n",
              "    <path d=\"M120-120v-720h720v720H120Zm60-500h600v-160H180v160Zm220 220h160v-160H400v160Zm0 220h160v-160H400v160ZM180-400h160v-160H180v160Zm440 0h160v-160H620v160ZM180-180h160v-160H180v160Zm440 0h160v-160H620v160Z\"/>\n",
              "  </svg>\n",
              "    </button>\n",
              "\n",
              "  <style>\n",
              "    .colab-df-container {\n",
              "      display:flex;\n",
              "      gap: 12px;\n",
              "    }\n",
              "\n",
              "    .colab-df-convert {\n",
              "      background-color: #E8F0FE;\n",
              "      border: none;\n",
              "      border-radius: 50%;\n",
              "      cursor: pointer;\n",
              "      display: none;\n",
              "      fill: #1967D2;\n",
              "      height: 32px;\n",
              "      padding: 0 0 0 0;\n",
              "      width: 32px;\n",
              "    }\n",
              "\n",
              "    .colab-df-convert:hover {\n",
              "      background-color: #E2EBFA;\n",
              "      box-shadow: 0px 1px 2px rgba(60, 64, 67, 0.3), 0px 1px 3px 1px rgba(60, 64, 67, 0.15);\n",
              "      fill: #174EA6;\n",
              "    }\n",
              "\n",
              "    .colab-df-buttons div {\n",
              "      margin-bottom: 4px;\n",
              "    }\n",
              "\n",
              "    [theme=dark] .colab-df-convert {\n",
              "      background-color: #3B4455;\n",
              "      fill: #D2E3FC;\n",
              "    }\n",
              "\n",
              "    [theme=dark] .colab-df-convert:hover {\n",
              "      background-color: #434B5C;\n",
              "      box-shadow: 0px 1px 3px 1px rgba(0, 0, 0, 0.15);\n",
              "      filter: drop-shadow(0px 1px 2px rgba(0, 0, 0, 0.3));\n",
              "      fill: #FFFFFF;\n",
              "    }\n",
              "  </style>\n",
              "\n",
              "    <script>\n",
              "      const buttonEl =\n",
              "        document.querySelector('#df-0232e6f8-feae-4fe8-9f1b-c19a91b65894 button.colab-df-convert');\n",
              "      buttonEl.style.display =\n",
              "        google.colab.kernel.accessAllowed ? 'block' : 'none';\n",
              "\n",
              "      async function convertToInteractive(key) {\n",
              "        const element = document.querySelector('#df-0232e6f8-feae-4fe8-9f1b-c19a91b65894');\n",
              "        const dataTable =\n",
              "          await google.colab.kernel.invokeFunction('convertToInteractive',\n",
              "                                                    [key], {});\n",
              "        if (!dataTable) return;\n",
              "\n",
              "        const docLinkHtml = 'Like what you see? Visit the ' +\n",
              "          '<a target=\"_blank\" href=https://colab.research.google.com/notebooks/data_table.ipynb>data table notebook</a>'\n",
              "          + ' to learn more about interactive tables.';\n",
              "        element.innerHTML = '';\n",
              "        dataTable['output_type'] = 'display_data';\n",
              "        await google.colab.output.renderOutput(dataTable, element);\n",
              "        const docLink = document.createElement('div');\n",
              "        docLink.innerHTML = docLinkHtml;\n",
              "        element.appendChild(docLink);\n",
              "      }\n",
              "    </script>\n",
              "  </div>\n",
              "\n",
              "\n",
              "<div id=\"df-5e8f8dde-beae-4af8-9fe3-e45480f3cb5e\">\n",
              "  <button class=\"colab-df-quickchart\" onclick=\"quickchart('df-5e8f8dde-beae-4af8-9fe3-e45480f3cb5e')\"\n",
              "            title=\"Suggest charts.\"\n",
              "            style=\"display:none;\">\n",
              "\n",
              "<svg xmlns=\"http://www.w3.org/2000/svg\" height=\"24px\"viewBox=\"0 0 24 24\"\n",
              "     width=\"24px\">\n",
              "    <g>\n",
              "        <path d=\"M19 3H5c-1.1 0-2 .9-2 2v14c0 1.1.9 2 2 2h14c1.1 0 2-.9 2-2V5c0-1.1-.9-2-2-2zM9 17H7v-7h2v7zm4 0h-2V7h2v10zm4 0h-2v-4h2v4z\"/>\n",
              "    </g>\n",
              "</svg>\n",
              "  </button>\n",
              "\n",
              "<style>\n",
              "  .colab-df-quickchart {\n",
              "      --bg-color: #E8F0FE;\n",
              "      --fill-color: #1967D2;\n",
              "      --hover-bg-color: #E2EBFA;\n",
              "      --hover-fill-color: #174EA6;\n",
              "      --disabled-fill-color: #AAA;\n",
              "      --disabled-bg-color: #DDD;\n",
              "  }\n",
              "\n",
              "  [theme=dark] .colab-df-quickchart {\n",
              "      --bg-color: #3B4455;\n",
              "      --fill-color: #D2E3FC;\n",
              "      --hover-bg-color: #434B5C;\n",
              "      --hover-fill-color: #FFFFFF;\n",
              "      --disabled-bg-color: #3B4455;\n",
              "      --disabled-fill-color: #666;\n",
              "  }\n",
              "\n",
              "  .colab-df-quickchart {\n",
              "    background-color: var(--bg-color);\n",
              "    border: none;\n",
              "    border-radius: 50%;\n",
              "    cursor: pointer;\n",
              "    display: none;\n",
              "    fill: var(--fill-color);\n",
              "    height: 32px;\n",
              "    padding: 0;\n",
              "    width: 32px;\n",
              "  }\n",
              "\n",
              "  .colab-df-quickchart:hover {\n",
              "    background-color: var(--hover-bg-color);\n",
              "    box-shadow: 0 1px 2px rgba(60, 64, 67, 0.3), 0 1px 3px 1px rgba(60, 64, 67, 0.15);\n",
              "    fill: var(--button-hover-fill-color);\n",
              "  }\n",
              "\n",
              "  .colab-df-quickchart-complete:disabled,\n",
              "  .colab-df-quickchart-complete:disabled:hover {\n",
              "    background-color: var(--disabled-bg-color);\n",
              "    fill: var(--disabled-fill-color);\n",
              "    box-shadow: none;\n",
              "  }\n",
              "\n",
              "  .colab-df-spinner {\n",
              "    border: 2px solid var(--fill-color);\n",
              "    border-color: transparent;\n",
              "    border-bottom-color: var(--fill-color);\n",
              "    animation:\n",
              "      spin 1s steps(1) infinite;\n",
              "  }\n",
              "\n",
              "  @keyframes spin {\n",
              "    0% {\n",
              "      border-color: transparent;\n",
              "      border-bottom-color: var(--fill-color);\n",
              "      border-left-color: var(--fill-color);\n",
              "    }\n",
              "    20% {\n",
              "      border-color: transparent;\n",
              "      border-left-color: var(--fill-color);\n",
              "      border-top-color: var(--fill-color);\n",
              "    }\n",
              "    30% {\n",
              "      border-color: transparent;\n",
              "      border-left-color: var(--fill-color);\n",
              "      border-top-color: var(--fill-color);\n",
              "      border-right-color: var(--fill-color);\n",
              "    }\n",
              "    40% {\n",
              "      border-color: transparent;\n",
              "      border-right-color: var(--fill-color);\n",
              "      border-top-color: var(--fill-color);\n",
              "    }\n",
              "    60% {\n",
              "      border-color: transparent;\n",
              "      border-right-color: var(--fill-color);\n",
              "    }\n",
              "    80% {\n",
              "      border-color: transparent;\n",
              "      border-right-color: var(--fill-color);\n",
              "      border-bottom-color: var(--fill-color);\n",
              "    }\n",
              "    90% {\n",
              "      border-color: transparent;\n",
              "      border-bottom-color: var(--fill-color);\n",
              "    }\n",
              "  }\n",
              "</style>\n",
              "\n",
              "  <script>\n",
              "    async function quickchart(key) {\n",
              "      const quickchartButtonEl =\n",
              "        document.querySelector('#' + key + ' button');\n",
              "      quickchartButtonEl.disabled = true;  // To prevent multiple clicks.\n",
              "      quickchartButtonEl.classList.add('colab-df-spinner');\n",
              "      try {\n",
              "        const charts = await google.colab.kernel.invokeFunction(\n",
              "            'suggestCharts', [key], {});\n",
              "      } catch (error) {\n",
              "        console.error('Error during call to suggestCharts:', error);\n",
              "      }\n",
              "      quickchartButtonEl.classList.remove('colab-df-spinner');\n",
              "      quickchartButtonEl.classList.add('colab-df-quickchart-complete');\n",
              "    }\n",
              "    (() => {\n",
              "      let quickchartButtonEl =\n",
              "        document.querySelector('#df-5e8f8dde-beae-4af8-9fe3-e45480f3cb5e button');\n",
              "      quickchartButtonEl.style.display =\n",
              "        google.colab.kernel.accessAllowed ? 'block' : 'none';\n",
              "    })();\n",
              "  </script>\n",
              "</div>\n",
              "    </div>\n",
              "  </div>\n"
            ]
          },
          "metadata": {},
          "execution_count": 5
        }
      ],
      "source": [
        "df_braopti"
      ]
    },
    {
      "cell_type": "markdown",
      "metadata": {
        "id": "GMbhS8ArKuvT"
      },
      "source": [
        "## **Cambio los valores Null de la columna ACTOR2 por un string 'Sin Dato'**"
      ]
    },
    {
      "cell_type": "code",
      "execution_count": 6,
      "metadata": {
        "id": "8V9l7DYnInHt"
      },
      "outputs": [],
      "source": [
        "df_braopti['ACTOR2'].fillna('Sin Dato', inplace=True)"
      ]
    },
    {
      "cell_type": "markdown",
      "metadata": {
        "id": "GYCvgERWLZsi"
      },
      "source": [
        "## **Vemos que se realizo el cambio**"
      ]
    },
    {
      "cell_type": "code",
      "execution_count": 7,
      "metadata": {
        "colab": {
          "base_uri": "https://localhost:8080/",
          "height": 649
        },
        "id": "DnjCbVw5Jeml",
        "outputId": "449c8b19-e198-4a89-a6be-84161ff21624"
      },
      "outputs": [
        {
          "output_type": "execute_result",
          "data": {
            "text/plain": [
              "            EVENT_DATE                  EVENT_TYPE    SUB_EVENT_TYPE  \\\n",
              "0      01-January-2018                    Protests  Peaceful protest   \n",
              "1      01-January-2018                    Protests  Peaceful protest   \n",
              "2      01-January-2018  Violence against civilians            Attack   \n",
              "3      01-January-2018  Violence against civilians            Attack   \n",
              "4      01-January-2018  Violence against civilians            Attack   \n",
              "...                ...                         ...               ...   \n",
              "62853  20-January-2023                     Battles       Armed clash   \n",
              "62854  20-January-2023                     Battles       Armed clash   \n",
              "62855  20-January-2023                     Battles       Armed clash   \n",
              "62856  20-January-2023                     Battles       Armed clash   \n",
              "62857  20-January-2023  Violence against civilians            Attack   \n",
              "\n",
              "                                        ACTOR1  \\\n",
              "0                          Protesters (Brazil)   \n",
              "1                          Protesters (Brazil)   \n",
              "2            Unidentified Armed Group (Brazil)   \n",
              "3      Unidentified Gang and/or Police Militia   \n",
              "4            Unidentified Armed Group (Brazil)   \n",
              "...                                        ...   \n",
              "62853  Unidentified Gang and/or Police Militia   \n",
              "62854        Unidentified Armed Group (Brazil)   \n",
              "62855        Unidentified Armed Group (Brazil)   \n",
              "62856        Unidentified Armed Group (Brazil)   \n",
              "62857  Unidentified Gang and/or Police Militia   \n",
              "\n",
              "                                  ACTOR2 COUNTRY                     LOCATION  \\\n",
              "0                               Sin Dato  Brazil                     Teresina   \n",
              "1                               Sin Dato  Brazil                       Cuiaba   \n",
              "2                     Civilians (Brazil)  Brazil     Santa Cruz do Capibaribe   \n",
              "3                     Civilians (Brazil)  Brazil                    Petrolina   \n",
              "4                     Civilians (Brazil)  Brazil                     Floriano   \n",
              "...                                  ...     ...                          ...   \n",
              "62853         Unidentified Gang (Brazil)  Brazil                 Campo Grande   \n",
              "62854  Unidentified Armed Group (Brazil)  Brazil   Rio de Janeiro - West Zone   \n",
              "62855  Unidentified Armed Group (Brazil)  Brazil  Rio de Janeiro - North Zone   \n",
              "62856  Unidentified Armed Group (Brazil)  Brazil           Sao Joao de Meriti   \n",
              "62857                 Civilians (Brazil)  Brazil                  Divinopolis   \n",
              "\n",
              "       LATITUDE  LONGITUDE SOURCE_SCALE  \\\n",
              "0       -5089.0   -42802.0     National   \n",
              "1      -15596.0   -56097.0     National   \n",
              "2       -7948.0   -36206.0     National   \n",
              "3       -9389.0   -40503.0     National   \n",
              "4       -6773.0   -43012.0     National   \n",
              "...         ...        ...          ...   \n",
              "62853  -20443.0   -54646.0  Subnational   \n",
              "62854  -22915.0   -43488.0    New media   \n",
              "62855  -22857.0   -43301.0    New media   \n",
              "62856  -22804.0   -43372.0    New media   \n",
              "62857  -20142.0   -44889.0     National   \n",
              "\n",
              "                                                   NOTES  FATALITIES  \n",
              "0      At the beginning of January 2018, in Teresina,...         0.0  \n",
              "1      On 1 January 2018, local residents protested i...         0.0  \n",
              "2      On 1 January 2018, in Santa Cruz do Capibaribe...         2.0  \n",
              "3      On 1 January 2018, Petrolina, Pernambuco, a ma...         1.0  \n",
              "4      On 1 January 2018, in Floriano, Piaui, a man w...         1.0  \n",
              "...                                                  ...         ...  \n",
              "62853  On 20 January 2023, in Campo Grande (Mato Gros...         2.0  \n",
              "62854  On 20 January 2023, in Rio de Janeiro - West Z...         0.0  \n",
              "62855  On 20 January 2023, in Rio de Janeiro - North ...         0.0  \n",
              "62856  On 20 January 2023, in Sao Joao de Meriti (Rio...         0.0  \n",
              "62857  On 20 January 2023, in Divinopolis (Minas Gera...         1.0  \n",
              "\n",
              "[62858 rows x 12 columns]"
            ],
            "text/html": [
              "\n",
              "  <div id=\"df-dbeff04b-9d45-43f2-ab8f-bce20e845382\" class=\"colab-df-container\">\n",
              "    <div>\n",
              "<style scoped>\n",
              "    .dataframe tbody tr th:only-of-type {\n",
              "        vertical-align: middle;\n",
              "    }\n",
              "\n",
              "    .dataframe tbody tr th {\n",
              "        vertical-align: top;\n",
              "    }\n",
              "\n",
              "    .dataframe thead th {\n",
              "        text-align: right;\n",
              "    }\n",
              "</style>\n",
              "<table border=\"1\" class=\"dataframe\">\n",
              "  <thead>\n",
              "    <tr style=\"text-align: right;\">\n",
              "      <th></th>\n",
              "      <th>EVENT_DATE</th>\n",
              "      <th>EVENT_TYPE</th>\n",
              "      <th>SUB_EVENT_TYPE</th>\n",
              "      <th>ACTOR1</th>\n",
              "      <th>ACTOR2</th>\n",
              "      <th>COUNTRY</th>\n",
              "      <th>LOCATION</th>\n",
              "      <th>LATITUDE</th>\n",
              "      <th>LONGITUDE</th>\n",
              "      <th>SOURCE_SCALE</th>\n",
              "      <th>NOTES</th>\n",
              "      <th>FATALITIES</th>\n",
              "    </tr>\n",
              "  </thead>\n",
              "  <tbody>\n",
              "    <tr>\n",
              "      <th>0</th>\n",
              "      <td>01-January-2018</td>\n",
              "      <td>Protests</td>\n",
              "      <td>Peaceful protest</td>\n",
              "      <td>Protesters (Brazil)</td>\n",
              "      <td>Sin Dato</td>\n",
              "      <td>Brazil</td>\n",
              "      <td>Teresina</td>\n",
              "      <td>-5089.0</td>\n",
              "      <td>-42802.0</td>\n",
              "      <td>National</td>\n",
              "      <td>At the beginning of January 2018, in Teresina,...</td>\n",
              "      <td>0.0</td>\n",
              "    </tr>\n",
              "    <tr>\n",
              "      <th>1</th>\n",
              "      <td>01-January-2018</td>\n",
              "      <td>Protests</td>\n",
              "      <td>Peaceful protest</td>\n",
              "      <td>Protesters (Brazil)</td>\n",
              "      <td>Sin Dato</td>\n",
              "      <td>Brazil</td>\n",
              "      <td>Cuiaba</td>\n",
              "      <td>-15596.0</td>\n",
              "      <td>-56097.0</td>\n",
              "      <td>National</td>\n",
              "      <td>On 1 January 2018, local residents protested i...</td>\n",
              "      <td>0.0</td>\n",
              "    </tr>\n",
              "    <tr>\n",
              "      <th>2</th>\n",
              "      <td>01-January-2018</td>\n",
              "      <td>Violence against civilians</td>\n",
              "      <td>Attack</td>\n",
              "      <td>Unidentified Armed Group (Brazil)</td>\n",
              "      <td>Civilians (Brazil)</td>\n",
              "      <td>Brazil</td>\n",
              "      <td>Santa Cruz do Capibaribe</td>\n",
              "      <td>-7948.0</td>\n",
              "      <td>-36206.0</td>\n",
              "      <td>National</td>\n",
              "      <td>On 1 January 2018, in Santa Cruz do Capibaribe...</td>\n",
              "      <td>2.0</td>\n",
              "    </tr>\n",
              "    <tr>\n",
              "      <th>3</th>\n",
              "      <td>01-January-2018</td>\n",
              "      <td>Violence against civilians</td>\n",
              "      <td>Attack</td>\n",
              "      <td>Unidentified Gang and/or Police Militia</td>\n",
              "      <td>Civilians (Brazil)</td>\n",
              "      <td>Brazil</td>\n",
              "      <td>Petrolina</td>\n",
              "      <td>-9389.0</td>\n",
              "      <td>-40503.0</td>\n",
              "      <td>National</td>\n",
              "      <td>On 1 January 2018, Petrolina, Pernambuco, a ma...</td>\n",
              "      <td>1.0</td>\n",
              "    </tr>\n",
              "    <tr>\n",
              "      <th>4</th>\n",
              "      <td>01-January-2018</td>\n",
              "      <td>Violence against civilians</td>\n",
              "      <td>Attack</td>\n",
              "      <td>Unidentified Armed Group (Brazil)</td>\n",
              "      <td>Civilians (Brazil)</td>\n",
              "      <td>Brazil</td>\n",
              "      <td>Floriano</td>\n",
              "      <td>-6773.0</td>\n",
              "      <td>-43012.0</td>\n",
              "      <td>National</td>\n",
              "      <td>On 1 January 2018, in Floriano, Piaui, a man w...</td>\n",
              "      <td>1.0</td>\n",
              "    </tr>\n",
              "    <tr>\n",
              "      <th>...</th>\n",
              "      <td>...</td>\n",
              "      <td>...</td>\n",
              "      <td>...</td>\n",
              "      <td>...</td>\n",
              "      <td>...</td>\n",
              "      <td>...</td>\n",
              "      <td>...</td>\n",
              "      <td>...</td>\n",
              "      <td>...</td>\n",
              "      <td>...</td>\n",
              "      <td>...</td>\n",
              "      <td>...</td>\n",
              "    </tr>\n",
              "    <tr>\n",
              "      <th>62853</th>\n",
              "      <td>20-January-2023</td>\n",
              "      <td>Battles</td>\n",
              "      <td>Armed clash</td>\n",
              "      <td>Unidentified Gang and/or Police Militia</td>\n",
              "      <td>Unidentified Gang (Brazil)</td>\n",
              "      <td>Brazil</td>\n",
              "      <td>Campo Grande</td>\n",
              "      <td>-20443.0</td>\n",
              "      <td>-54646.0</td>\n",
              "      <td>Subnational</td>\n",
              "      <td>On 20 January 2023, in Campo Grande (Mato Gros...</td>\n",
              "      <td>2.0</td>\n",
              "    </tr>\n",
              "    <tr>\n",
              "      <th>62854</th>\n",
              "      <td>20-January-2023</td>\n",
              "      <td>Battles</td>\n",
              "      <td>Armed clash</td>\n",
              "      <td>Unidentified Armed Group (Brazil)</td>\n",
              "      <td>Unidentified Armed Group (Brazil)</td>\n",
              "      <td>Brazil</td>\n",
              "      <td>Rio de Janeiro - West Zone</td>\n",
              "      <td>-22915.0</td>\n",
              "      <td>-43488.0</td>\n",
              "      <td>New media</td>\n",
              "      <td>On 20 January 2023, in Rio de Janeiro - West Z...</td>\n",
              "      <td>0.0</td>\n",
              "    </tr>\n",
              "    <tr>\n",
              "      <th>62855</th>\n",
              "      <td>20-January-2023</td>\n",
              "      <td>Battles</td>\n",
              "      <td>Armed clash</td>\n",
              "      <td>Unidentified Armed Group (Brazil)</td>\n",
              "      <td>Unidentified Armed Group (Brazil)</td>\n",
              "      <td>Brazil</td>\n",
              "      <td>Rio de Janeiro - North Zone</td>\n",
              "      <td>-22857.0</td>\n",
              "      <td>-43301.0</td>\n",
              "      <td>New media</td>\n",
              "      <td>On 20 January 2023, in Rio de Janeiro - North ...</td>\n",
              "      <td>0.0</td>\n",
              "    </tr>\n",
              "    <tr>\n",
              "      <th>62856</th>\n",
              "      <td>20-January-2023</td>\n",
              "      <td>Battles</td>\n",
              "      <td>Armed clash</td>\n",
              "      <td>Unidentified Armed Group (Brazil)</td>\n",
              "      <td>Unidentified Armed Group (Brazil)</td>\n",
              "      <td>Brazil</td>\n",
              "      <td>Sao Joao de Meriti</td>\n",
              "      <td>-22804.0</td>\n",
              "      <td>-43372.0</td>\n",
              "      <td>New media</td>\n",
              "      <td>On 20 January 2023, in Sao Joao de Meriti (Rio...</td>\n",
              "      <td>0.0</td>\n",
              "    </tr>\n",
              "    <tr>\n",
              "      <th>62857</th>\n",
              "      <td>20-January-2023</td>\n",
              "      <td>Violence against civilians</td>\n",
              "      <td>Attack</td>\n",
              "      <td>Unidentified Gang and/or Police Militia</td>\n",
              "      <td>Civilians (Brazil)</td>\n",
              "      <td>Brazil</td>\n",
              "      <td>Divinopolis</td>\n",
              "      <td>-20142.0</td>\n",
              "      <td>-44889.0</td>\n",
              "      <td>National</td>\n",
              "      <td>On 20 January 2023, in Divinopolis (Minas Gera...</td>\n",
              "      <td>1.0</td>\n",
              "    </tr>\n",
              "  </tbody>\n",
              "</table>\n",
              "<p>62858 rows × 12 columns</p>\n",
              "</div>\n",
              "    <div class=\"colab-df-buttons\">\n",
              "\n",
              "  <div class=\"colab-df-container\">\n",
              "    <button class=\"colab-df-convert\" onclick=\"convertToInteractive('df-dbeff04b-9d45-43f2-ab8f-bce20e845382')\"\n",
              "            title=\"Convert this dataframe to an interactive table.\"\n",
              "            style=\"display:none;\">\n",
              "\n",
              "  <svg xmlns=\"http://www.w3.org/2000/svg\" height=\"24px\" viewBox=\"0 -960 960 960\">\n",
              "    <path d=\"M120-120v-720h720v720H120Zm60-500h600v-160H180v160Zm220 220h160v-160H400v160Zm0 220h160v-160H400v160ZM180-400h160v-160H180v160Zm440 0h160v-160H620v160ZM180-180h160v-160H180v160Zm440 0h160v-160H620v160Z\"/>\n",
              "  </svg>\n",
              "    </button>\n",
              "\n",
              "  <style>\n",
              "    .colab-df-container {\n",
              "      display:flex;\n",
              "      gap: 12px;\n",
              "    }\n",
              "\n",
              "    .colab-df-convert {\n",
              "      background-color: #E8F0FE;\n",
              "      border: none;\n",
              "      border-radius: 50%;\n",
              "      cursor: pointer;\n",
              "      display: none;\n",
              "      fill: #1967D2;\n",
              "      height: 32px;\n",
              "      padding: 0 0 0 0;\n",
              "      width: 32px;\n",
              "    }\n",
              "\n",
              "    .colab-df-convert:hover {\n",
              "      background-color: #E2EBFA;\n",
              "      box-shadow: 0px 1px 2px rgba(60, 64, 67, 0.3), 0px 1px 3px 1px rgba(60, 64, 67, 0.15);\n",
              "      fill: #174EA6;\n",
              "    }\n",
              "\n",
              "    .colab-df-buttons div {\n",
              "      margin-bottom: 4px;\n",
              "    }\n",
              "\n",
              "    [theme=dark] .colab-df-convert {\n",
              "      background-color: #3B4455;\n",
              "      fill: #D2E3FC;\n",
              "    }\n",
              "\n",
              "    [theme=dark] .colab-df-convert:hover {\n",
              "      background-color: #434B5C;\n",
              "      box-shadow: 0px 1px 3px 1px rgba(0, 0, 0, 0.15);\n",
              "      filter: drop-shadow(0px 1px 2px rgba(0, 0, 0, 0.3));\n",
              "      fill: #FFFFFF;\n",
              "    }\n",
              "  </style>\n",
              "\n",
              "    <script>\n",
              "      const buttonEl =\n",
              "        document.querySelector('#df-dbeff04b-9d45-43f2-ab8f-bce20e845382 button.colab-df-convert');\n",
              "      buttonEl.style.display =\n",
              "        google.colab.kernel.accessAllowed ? 'block' : 'none';\n",
              "\n",
              "      async function convertToInteractive(key) {\n",
              "        const element = document.querySelector('#df-dbeff04b-9d45-43f2-ab8f-bce20e845382');\n",
              "        const dataTable =\n",
              "          await google.colab.kernel.invokeFunction('convertToInteractive',\n",
              "                                                    [key], {});\n",
              "        if (!dataTable) return;\n",
              "\n",
              "        const docLinkHtml = 'Like what you see? Visit the ' +\n",
              "          '<a target=\"_blank\" href=https://colab.research.google.com/notebooks/data_table.ipynb>data table notebook</a>'\n",
              "          + ' to learn more about interactive tables.';\n",
              "        element.innerHTML = '';\n",
              "        dataTable['output_type'] = 'display_data';\n",
              "        await google.colab.output.renderOutput(dataTable, element);\n",
              "        const docLink = document.createElement('div');\n",
              "        docLink.innerHTML = docLinkHtml;\n",
              "        element.appendChild(docLink);\n",
              "      }\n",
              "    </script>\n",
              "  </div>\n",
              "\n",
              "\n",
              "<div id=\"df-34085e7d-b490-4efd-b3b9-a155261389e7\">\n",
              "  <button class=\"colab-df-quickchart\" onclick=\"quickchart('df-34085e7d-b490-4efd-b3b9-a155261389e7')\"\n",
              "            title=\"Suggest charts.\"\n",
              "            style=\"display:none;\">\n",
              "\n",
              "<svg xmlns=\"http://www.w3.org/2000/svg\" height=\"24px\"viewBox=\"0 0 24 24\"\n",
              "     width=\"24px\">\n",
              "    <g>\n",
              "        <path d=\"M19 3H5c-1.1 0-2 .9-2 2v14c0 1.1.9 2 2 2h14c1.1 0 2-.9 2-2V5c0-1.1-.9-2-2-2zM9 17H7v-7h2v7zm4 0h-2V7h2v10zm4 0h-2v-4h2v4z\"/>\n",
              "    </g>\n",
              "</svg>\n",
              "  </button>\n",
              "\n",
              "<style>\n",
              "  .colab-df-quickchart {\n",
              "      --bg-color: #E8F0FE;\n",
              "      --fill-color: #1967D2;\n",
              "      --hover-bg-color: #E2EBFA;\n",
              "      --hover-fill-color: #174EA6;\n",
              "      --disabled-fill-color: #AAA;\n",
              "      --disabled-bg-color: #DDD;\n",
              "  }\n",
              "\n",
              "  [theme=dark] .colab-df-quickchart {\n",
              "      --bg-color: #3B4455;\n",
              "      --fill-color: #D2E3FC;\n",
              "      --hover-bg-color: #434B5C;\n",
              "      --hover-fill-color: #FFFFFF;\n",
              "      --disabled-bg-color: #3B4455;\n",
              "      --disabled-fill-color: #666;\n",
              "  }\n",
              "\n",
              "  .colab-df-quickchart {\n",
              "    background-color: var(--bg-color);\n",
              "    border: none;\n",
              "    border-radius: 50%;\n",
              "    cursor: pointer;\n",
              "    display: none;\n",
              "    fill: var(--fill-color);\n",
              "    height: 32px;\n",
              "    padding: 0;\n",
              "    width: 32px;\n",
              "  }\n",
              "\n",
              "  .colab-df-quickchart:hover {\n",
              "    background-color: var(--hover-bg-color);\n",
              "    box-shadow: 0 1px 2px rgba(60, 64, 67, 0.3), 0 1px 3px 1px rgba(60, 64, 67, 0.15);\n",
              "    fill: var(--button-hover-fill-color);\n",
              "  }\n",
              "\n",
              "  .colab-df-quickchart-complete:disabled,\n",
              "  .colab-df-quickchart-complete:disabled:hover {\n",
              "    background-color: var(--disabled-bg-color);\n",
              "    fill: var(--disabled-fill-color);\n",
              "    box-shadow: none;\n",
              "  }\n",
              "\n",
              "  .colab-df-spinner {\n",
              "    border: 2px solid var(--fill-color);\n",
              "    border-color: transparent;\n",
              "    border-bottom-color: var(--fill-color);\n",
              "    animation:\n",
              "      spin 1s steps(1) infinite;\n",
              "  }\n",
              "\n",
              "  @keyframes spin {\n",
              "    0% {\n",
              "      border-color: transparent;\n",
              "      border-bottom-color: var(--fill-color);\n",
              "      border-left-color: var(--fill-color);\n",
              "    }\n",
              "    20% {\n",
              "      border-color: transparent;\n",
              "      border-left-color: var(--fill-color);\n",
              "      border-top-color: var(--fill-color);\n",
              "    }\n",
              "    30% {\n",
              "      border-color: transparent;\n",
              "      border-left-color: var(--fill-color);\n",
              "      border-top-color: var(--fill-color);\n",
              "      border-right-color: var(--fill-color);\n",
              "    }\n",
              "    40% {\n",
              "      border-color: transparent;\n",
              "      border-right-color: var(--fill-color);\n",
              "      border-top-color: var(--fill-color);\n",
              "    }\n",
              "    60% {\n",
              "      border-color: transparent;\n",
              "      border-right-color: var(--fill-color);\n",
              "    }\n",
              "    80% {\n",
              "      border-color: transparent;\n",
              "      border-right-color: var(--fill-color);\n",
              "      border-bottom-color: var(--fill-color);\n",
              "    }\n",
              "    90% {\n",
              "      border-color: transparent;\n",
              "      border-bottom-color: var(--fill-color);\n",
              "    }\n",
              "  }\n",
              "</style>\n",
              "\n",
              "  <script>\n",
              "    async function quickchart(key) {\n",
              "      const quickchartButtonEl =\n",
              "        document.querySelector('#' + key + ' button');\n",
              "      quickchartButtonEl.disabled = true;  // To prevent multiple clicks.\n",
              "      quickchartButtonEl.classList.add('colab-df-spinner');\n",
              "      try {\n",
              "        const charts = await google.colab.kernel.invokeFunction(\n",
              "            'suggestCharts', [key], {});\n",
              "      } catch (error) {\n",
              "        console.error('Error during call to suggestCharts:', error);\n",
              "      }\n",
              "      quickchartButtonEl.classList.remove('colab-df-spinner');\n",
              "      quickchartButtonEl.classList.add('colab-df-quickchart-complete');\n",
              "    }\n",
              "    (() => {\n",
              "      let quickchartButtonEl =\n",
              "        document.querySelector('#df-34085e7d-b490-4efd-b3b9-a155261389e7 button');\n",
              "      quickchartButtonEl.style.display =\n",
              "        google.colab.kernel.accessAllowed ? 'block' : 'none';\n",
              "    })();\n",
              "  </script>\n",
              "</div>\n",
              "    </div>\n",
              "  </div>\n"
            ]
          },
          "metadata": {},
          "execution_count": 7
        }
      ],
      "source": [
        "df_braopti"
      ]
    },
    {
      "cell_type": "markdown",
      "metadata": {
        "id": "cZX1f_w_LEyL"
      },
      "source": [
        "## **Vemos que no quedaron columnas con Null en el dataset**"
      ]
    },
    {
      "cell_type": "code",
      "execution_count": 8,
      "metadata": {
        "colab": {
          "base_uri": "https://localhost:8080/",
          "height": 424
        },
        "id": "H6j2e2rWJjkd",
        "outputId": "2ccebdd1-90f4-4f47-e3eb-557bb5270a5b"
      },
      "outputs": [
        {
          "output_type": "execute_result",
          "data": {
            "text/plain": [
              "       EVENT_DATE  EVENT_TYPE  SUB_EVENT_TYPE  ACTOR1  ACTOR2  COUNTRY  \\\n",
              "0           False       False           False   False   False    False   \n",
              "1           False       False           False   False   False    False   \n",
              "2           False       False           False   False   False    False   \n",
              "3           False       False           False   False   False    False   \n",
              "4           False       False           False   False   False    False   \n",
              "...           ...         ...             ...     ...     ...      ...   \n",
              "62853       False       False           False   False   False    False   \n",
              "62854       False       False           False   False   False    False   \n",
              "62855       False       False           False   False   False    False   \n",
              "62856       False       False           False   False   False    False   \n",
              "62857       False       False           False   False   False    False   \n",
              "\n",
              "       LOCATION  LATITUDE  LONGITUDE  SOURCE_SCALE  NOTES  FATALITIES  \n",
              "0         False     False      False         False  False       False  \n",
              "1         False     False      False         False  False       False  \n",
              "2         False     False      False         False  False       False  \n",
              "3         False     False      False         False  False       False  \n",
              "4         False     False      False         False  False       False  \n",
              "...         ...       ...        ...           ...    ...         ...  \n",
              "62853     False     False      False         False  False       False  \n",
              "62854     False     False      False         False  False       False  \n",
              "62855     False     False      False         False  False       False  \n",
              "62856     False     False      False         False  False       False  \n",
              "62857     False     False      False         False  False       False  \n",
              "\n",
              "[62858 rows x 12 columns]"
            ],
            "text/html": [
              "\n",
              "  <div id=\"df-c0c6b4d4-0035-4377-8257-8cdb6fcedee9\" class=\"colab-df-container\">\n",
              "    <div>\n",
              "<style scoped>\n",
              "    .dataframe tbody tr th:only-of-type {\n",
              "        vertical-align: middle;\n",
              "    }\n",
              "\n",
              "    .dataframe tbody tr th {\n",
              "        vertical-align: top;\n",
              "    }\n",
              "\n",
              "    .dataframe thead th {\n",
              "        text-align: right;\n",
              "    }\n",
              "</style>\n",
              "<table border=\"1\" class=\"dataframe\">\n",
              "  <thead>\n",
              "    <tr style=\"text-align: right;\">\n",
              "      <th></th>\n",
              "      <th>EVENT_DATE</th>\n",
              "      <th>EVENT_TYPE</th>\n",
              "      <th>SUB_EVENT_TYPE</th>\n",
              "      <th>ACTOR1</th>\n",
              "      <th>ACTOR2</th>\n",
              "      <th>COUNTRY</th>\n",
              "      <th>LOCATION</th>\n",
              "      <th>LATITUDE</th>\n",
              "      <th>LONGITUDE</th>\n",
              "      <th>SOURCE_SCALE</th>\n",
              "      <th>NOTES</th>\n",
              "      <th>FATALITIES</th>\n",
              "    </tr>\n",
              "  </thead>\n",
              "  <tbody>\n",
              "    <tr>\n",
              "      <th>0</th>\n",
              "      <td>False</td>\n",
              "      <td>False</td>\n",
              "      <td>False</td>\n",
              "      <td>False</td>\n",
              "      <td>False</td>\n",
              "      <td>False</td>\n",
              "      <td>False</td>\n",
              "      <td>False</td>\n",
              "      <td>False</td>\n",
              "      <td>False</td>\n",
              "      <td>False</td>\n",
              "      <td>False</td>\n",
              "    </tr>\n",
              "    <tr>\n",
              "      <th>1</th>\n",
              "      <td>False</td>\n",
              "      <td>False</td>\n",
              "      <td>False</td>\n",
              "      <td>False</td>\n",
              "      <td>False</td>\n",
              "      <td>False</td>\n",
              "      <td>False</td>\n",
              "      <td>False</td>\n",
              "      <td>False</td>\n",
              "      <td>False</td>\n",
              "      <td>False</td>\n",
              "      <td>False</td>\n",
              "    </tr>\n",
              "    <tr>\n",
              "      <th>2</th>\n",
              "      <td>False</td>\n",
              "      <td>False</td>\n",
              "      <td>False</td>\n",
              "      <td>False</td>\n",
              "      <td>False</td>\n",
              "      <td>False</td>\n",
              "      <td>False</td>\n",
              "      <td>False</td>\n",
              "      <td>False</td>\n",
              "      <td>False</td>\n",
              "      <td>False</td>\n",
              "      <td>False</td>\n",
              "    </tr>\n",
              "    <tr>\n",
              "      <th>3</th>\n",
              "      <td>False</td>\n",
              "      <td>False</td>\n",
              "      <td>False</td>\n",
              "      <td>False</td>\n",
              "      <td>False</td>\n",
              "      <td>False</td>\n",
              "      <td>False</td>\n",
              "      <td>False</td>\n",
              "      <td>False</td>\n",
              "      <td>False</td>\n",
              "      <td>False</td>\n",
              "      <td>False</td>\n",
              "    </tr>\n",
              "    <tr>\n",
              "      <th>4</th>\n",
              "      <td>False</td>\n",
              "      <td>False</td>\n",
              "      <td>False</td>\n",
              "      <td>False</td>\n",
              "      <td>False</td>\n",
              "      <td>False</td>\n",
              "      <td>False</td>\n",
              "      <td>False</td>\n",
              "      <td>False</td>\n",
              "      <td>False</td>\n",
              "      <td>False</td>\n",
              "      <td>False</td>\n",
              "    </tr>\n",
              "    <tr>\n",
              "      <th>...</th>\n",
              "      <td>...</td>\n",
              "      <td>...</td>\n",
              "      <td>...</td>\n",
              "      <td>...</td>\n",
              "      <td>...</td>\n",
              "      <td>...</td>\n",
              "      <td>...</td>\n",
              "      <td>...</td>\n",
              "      <td>...</td>\n",
              "      <td>...</td>\n",
              "      <td>...</td>\n",
              "      <td>...</td>\n",
              "    </tr>\n",
              "    <tr>\n",
              "      <th>62853</th>\n",
              "      <td>False</td>\n",
              "      <td>False</td>\n",
              "      <td>False</td>\n",
              "      <td>False</td>\n",
              "      <td>False</td>\n",
              "      <td>False</td>\n",
              "      <td>False</td>\n",
              "      <td>False</td>\n",
              "      <td>False</td>\n",
              "      <td>False</td>\n",
              "      <td>False</td>\n",
              "      <td>False</td>\n",
              "    </tr>\n",
              "    <tr>\n",
              "      <th>62854</th>\n",
              "      <td>False</td>\n",
              "      <td>False</td>\n",
              "      <td>False</td>\n",
              "      <td>False</td>\n",
              "      <td>False</td>\n",
              "      <td>False</td>\n",
              "      <td>False</td>\n",
              "      <td>False</td>\n",
              "      <td>False</td>\n",
              "      <td>False</td>\n",
              "      <td>False</td>\n",
              "      <td>False</td>\n",
              "    </tr>\n",
              "    <tr>\n",
              "      <th>62855</th>\n",
              "      <td>False</td>\n",
              "      <td>False</td>\n",
              "      <td>False</td>\n",
              "      <td>False</td>\n",
              "      <td>False</td>\n",
              "      <td>False</td>\n",
              "      <td>False</td>\n",
              "      <td>False</td>\n",
              "      <td>False</td>\n",
              "      <td>False</td>\n",
              "      <td>False</td>\n",
              "      <td>False</td>\n",
              "    </tr>\n",
              "    <tr>\n",
              "      <th>62856</th>\n",
              "      <td>False</td>\n",
              "      <td>False</td>\n",
              "      <td>False</td>\n",
              "      <td>False</td>\n",
              "      <td>False</td>\n",
              "      <td>False</td>\n",
              "      <td>False</td>\n",
              "      <td>False</td>\n",
              "      <td>False</td>\n",
              "      <td>False</td>\n",
              "      <td>False</td>\n",
              "      <td>False</td>\n",
              "    </tr>\n",
              "    <tr>\n",
              "      <th>62857</th>\n",
              "      <td>False</td>\n",
              "      <td>False</td>\n",
              "      <td>False</td>\n",
              "      <td>False</td>\n",
              "      <td>False</td>\n",
              "      <td>False</td>\n",
              "      <td>False</td>\n",
              "      <td>False</td>\n",
              "      <td>False</td>\n",
              "      <td>False</td>\n",
              "      <td>False</td>\n",
              "      <td>False</td>\n",
              "    </tr>\n",
              "  </tbody>\n",
              "</table>\n",
              "<p>62858 rows × 12 columns</p>\n",
              "</div>\n",
              "    <div class=\"colab-df-buttons\">\n",
              "\n",
              "  <div class=\"colab-df-container\">\n",
              "    <button class=\"colab-df-convert\" onclick=\"convertToInteractive('df-c0c6b4d4-0035-4377-8257-8cdb6fcedee9')\"\n",
              "            title=\"Convert this dataframe to an interactive table.\"\n",
              "            style=\"display:none;\">\n",
              "\n",
              "  <svg xmlns=\"http://www.w3.org/2000/svg\" height=\"24px\" viewBox=\"0 -960 960 960\">\n",
              "    <path d=\"M120-120v-720h720v720H120Zm60-500h600v-160H180v160Zm220 220h160v-160H400v160Zm0 220h160v-160H400v160ZM180-400h160v-160H180v160Zm440 0h160v-160H620v160ZM180-180h160v-160H180v160Zm440 0h160v-160H620v160Z\"/>\n",
              "  </svg>\n",
              "    </button>\n",
              "\n",
              "  <style>\n",
              "    .colab-df-container {\n",
              "      display:flex;\n",
              "      gap: 12px;\n",
              "    }\n",
              "\n",
              "    .colab-df-convert {\n",
              "      background-color: #E8F0FE;\n",
              "      border: none;\n",
              "      border-radius: 50%;\n",
              "      cursor: pointer;\n",
              "      display: none;\n",
              "      fill: #1967D2;\n",
              "      height: 32px;\n",
              "      padding: 0 0 0 0;\n",
              "      width: 32px;\n",
              "    }\n",
              "\n",
              "    .colab-df-convert:hover {\n",
              "      background-color: #E2EBFA;\n",
              "      box-shadow: 0px 1px 2px rgba(60, 64, 67, 0.3), 0px 1px 3px 1px rgba(60, 64, 67, 0.15);\n",
              "      fill: #174EA6;\n",
              "    }\n",
              "\n",
              "    .colab-df-buttons div {\n",
              "      margin-bottom: 4px;\n",
              "    }\n",
              "\n",
              "    [theme=dark] .colab-df-convert {\n",
              "      background-color: #3B4455;\n",
              "      fill: #D2E3FC;\n",
              "    }\n",
              "\n",
              "    [theme=dark] .colab-df-convert:hover {\n",
              "      background-color: #434B5C;\n",
              "      box-shadow: 0px 1px 3px 1px rgba(0, 0, 0, 0.15);\n",
              "      filter: drop-shadow(0px 1px 2px rgba(0, 0, 0, 0.3));\n",
              "      fill: #FFFFFF;\n",
              "    }\n",
              "  </style>\n",
              "\n",
              "    <script>\n",
              "      const buttonEl =\n",
              "        document.querySelector('#df-c0c6b4d4-0035-4377-8257-8cdb6fcedee9 button.colab-df-convert');\n",
              "      buttonEl.style.display =\n",
              "        google.colab.kernel.accessAllowed ? 'block' : 'none';\n",
              "\n",
              "      async function convertToInteractive(key) {\n",
              "        const element = document.querySelector('#df-c0c6b4d4-0035-4377-8257-8cdb6fcedee9');\n",
              "        const dataTable =\n",
              "          await google.colab.kernel.invokeFunction('convertToInteractive',\n",
              "                                                    [key], {});\n",
              "        if (!dataTable) return;\n",
              "\n",
              "        const docLinkHtml = 'Like what you see? Visit the ' +\n",
              "          '<a target=\"_blank\" href=https://colab.research.google.com/notebooks/data_table.ipynb>data table notebook</a>'\n",
              "          + ' to learn more about interactive tables.';\n",
              "        element.innerHTML = '';\n",
              "        dataTable['output_type'] = 'display_data';\n",
              "        await google.colab.output.renderOutput(dataTable, element);\n",
              "        const docLink = document.createElement('div');\n",
              "        docLink.innerHTML = docLinkHtml;\n",
              "        element.appendChild(docLink);\n",
              "      }\n",
              "    </script>\n",
              "  </div>\n",
              "\n",
              "\n",
              "<div id=\"df-3e581e10-dd38-4275-b7c7-4bcb2defbd55\">\n",
              "  <button class=\"colab-df-quickchart\" onclick=\"quickchart('df-3e581e10-dd38-4275-b7c7-4bcb2defbd55')\"\n",
              "            title=\"Suggest charts.\"\n",
              "            style=\"display:none;\">\n",
              "\n",
              "<svg xmlns=\"http://www.w3.org/2000/svg\" height=\"24px\"viewBox=\"0 0 24 24\"\n",
              "     width=\"24px\">\n",
              "    <g>\n",
              "        <path d=\"M19 3H5c-1.1 0-2 .9-2 2v14c0 1.1.9 2 2 2h14c1.1 0 2-.9 2-2V5c0-1.1-.9-2-2-2zM9 17H7v-7h2v7zm4 0h-2V7h2v10zm4 0h-2v-4h2v4z\"/>\n",
              "    </g>\n",
              "</svg>\n",
              "  </button>\n",
              "\n",
              "<style>\n",
              "  .colab-df-quickchart {\n",
              "      --bg-color: #E8F0FE;\n",
              "      --fill-color: #1967D2;\n",
              "      --hover-bg-color: #E2EBFA;\n",
              "      --hover-fill-color: #174EA6;\n",
              "      --disabled-fill-color: #AAA;\n",
              "      --disabled-bg-color: #DDD;\n",
              "  }\n",
              "\n",
              "  [theme=dark] .colab-df-quickchart {\n",
              "      --bg-color: #3B4455;\n",
              "      --fill-color: #D2E3FC;\n",
              "      --hover-bg-color: #434B5C;\n",
              "      --hover-fill-color: #FFFFFF;\n",
              "      --disabled-bg-color: #3B4455;\n",
              "      --disabled-fill-color: #666;\n",
              "  }\n",
              "\n",
              "  .colab-df-quickchart {\n",
              "    background-color: var(--bg-color);\n",
              "    border: none;\n",
              "    border-radius: 50%;\n",
              "    cursor: pointer;\n",
              "    display: none;\n",
              "    fill: var(--fill-color);\n",
              "    height: 32px;\n",
              "    padding: 0;\n",
              "    width: 32px;\n",
              "  }\n",
              "\n",
              "  .colab-df-quickchart:hover {\n",
              "    background-color: var(--hover-bg-color);\n",
              "    box-shadow: 0 1px 2px rgba(60, 64, 67, 0.3), 0 1px 3px 1px rgba(60, 64, 67, 0.15);\n",
              "    fill: var(--button-hover-fill-color);\n",
              "  }\n",
              "\n",
              "  .colab-df-quickchart-complete:disabled,\n",
              "  .colab-df-quickchart-complete:disabled:hover {\n",
              "    background-color: var(--disabled-bg-color);\n",
              "    fill: var(--disabled-fill-color);\n",
              "    box-shadow: none;\n",
              "  }\n",
              "\n",
              "  .colab-df-spinner {\n",
              "    border: 2px solid var(--fill-color);\n",
              "    border-color: transparent;\n",
              "    border-bottom-color: var(--fill-color);\n",
              "    animation:\n",
              "      spin 1s steps(1) infinite;\n",
              "  }\n",
              "\n",
              "  @keyframes spin {\n",
              "    0% {\n",
              "      border-color: transparent;\n",
              "      border-bottom-color: var(--fill-color);\n",
              "      border-left-color: var(--fill-color);\n",
              "    }\n",
              "    20% {\n",
              "      border-color: transparent;\n",
              "      border-left-color: var(--fill-color);\n",
              "      border-top-color: var(--fill-color);\n",
              "    }\n",
              "    30% {\n",
              "      border-color: transparent;\n",
              "      border-left-color: var(--fill-color);\n",
              "      border-top-color: var(--fill-color);\n",
              "      border-right-color: var(--fill-color);\n",
              "    }\n",
              "    40% {\n",
              "      border-color: transparent;\n",
              "      border-right-color: var(--fill-color);\n",
              "      border-top-color: var(--fill-color);\n",
              "    }\n",
              "    60% {\n",
              "      border-color: transparent;\n",
              "      border-right-color: var(--fill-color);\n",
              "    }\n",
              "    80% {\n",
              "      border-color: transparent;\n",
              "      border-right-color: var(--fill-color);\n",
              "      border-bottom-color: var(--fill-color);\n",
              "    }\n",
              "    90% {\n",
              "      border-color: transparent;\n",
              "      border-bottom-color: var(--fill-color);\n",
              "    }\n",
              "  }\n",
              "</style>\n",
              "\n",
              "  <script>\n",
              "    async function quickchart(key) {\n",
              "      const quickchartButtonEl =\n",
              "        document.querySelector('#' + key + ' button');\n",
              "      quickchartButtonEl.disabled = true;  // To prevent multiple clicks.\n",
              "      quickchartButtonEl.classList.add('colab-df-spinner');\n",
              "      try {\n",
              "        const charts = await google.colab.kernel.invokeFunction(\n",
              "            'suggestCharts', [key], {});\n",
              "      } catch (error) {\n",
              "        console.error('Error during call to suggestCharts:', error);\n",
              "      }\n",
              "      quickchartButtonEl.classList.remove('colab-df-spinner');\n",
              "      quickchartButtonEl.classList.add('colab-df-quickchart-complete');\n",
              "    }\n",
              "    (() => {\n",
              "      let quickchartButtonEl =\n",
              "        document.querySelector('#df-3e581e10-dd38-4275-b7c7-4bcb2defbd55 button');\n",
              "      quickchartButtonEl.style.display =\n",
              "        google.colab.kernel.accessAllowed ? 'block' : 'none';\n",
              "    })();\n",
              "  </script>\n",
              "</div>\n",
              "    </div>\n",
              "  </div>\n"
            ]
          },
          "metadata": {},
          "execution_count": 8
        }
      ],
      "source": [
        "df_braopti.isnull()"
      ]
    },
    {
      "cell_type": "markdown",
      "metadata": {
        "id": "mMG_a9XONo3z"
      },
      "source": [
        "## **Vemos los tipos de datos de las columnas del Dataframe**"
      ]
    },
    {
      "cell_type": "code",
      "execution_count": 9,
      "metadata": {
        "colab": {
          "base_uri": "https://localhost:8080/"
        },
        "id": "i8t5DSSjLfTj",
        "outputId": "850fdae5-b391-4132-db1a-ab46a9d5ffa3"
      },
      "outputs": [
        {
          "output_type": "execute_result",
          "data": {
            "text/plain": [
              "EVENT_DATE         object\n",
              "EVENT_TYPE         object\n",
              "SUB_EVENT_TYPE     object\n",
              "ACTOR1             object\n",
              "ACTOR2             object\n",
              "COUNTRY            object\n",
              "LOCATION           object\n",
              "LATITUDE          float64\n",
              "LONGITUDE         float64\n",
              "SOURCE_SCALE       object\n",
              "NOTES              object\n",
              "FATALITIES        float64\n",
              "dtype: object"
            ]
          },
          "metadata": {},
          "execution_count": 9
        }
      ],
      "source": [
        "df_braopti.dtypes"
      ]
    },
    {
      "cell_type": "markdown",
      "metadata": {
        "id": "3p728qZfNyyD"
      },
      "source": [
        "## **Cambio el tipo de dato de la columna EVENT_DATE DE OBJECT A DATETIME**"
      ]
    },
    {
      "cell_type": "code",
      "execution_count": 10,
      "metadata": {
        "id": "HzgNxl-YL8fc"
      },
      "outputs": [],
      "source": [
        "df_braopti['EVENT_DATE'] = pd.to_datetime(df_braopti['EVENT_DATE'], dayfirst=True)\n",
        "\n"
      ]
    },
    {
      "cell_type": "markdown",
      "metadata": {
        "id": "dGZ5aoB5N_S6"
      },
      "source": [
        "## **Vemos que se cambio correctamente**"
      ]
    },
    {
      "cell_type": "code",
      "execution_count": 11,
      "metadata": {
        "colab": {
          "base_uri": "https://localhost:8080/"
        },
        "id": "COCfUVktNajL",
        "outputId": "d020aabd-30e8-4718-f03e-03972b0025dc"
      },
      "outputs": [
        {
          "output_type": "execute_result",
          "data": {
            "text/plain": [
              "0       2018-01-01\n",
              "1       2018-01-01\n",
              "2       2018-01-01\n",
              "3       2018-01-01\n",
              "4       2018-01-01\n",
              "           ...    \n",
              "62853   2023-01-20\n",
              "62854   2023-01-20\n",
              "62855   2023-01-20\n",
              "62856   2023-01-20\n",
              "62857   2023-01-20\n",
              "Name: EVENT_DATE, Length: 62858, dtype: datetime64[ns]"
            ]
          },
          "metadata": {},
          "execution_count": 11
        }
      ],
      "source": [
        "df_braopti['EVENT_DATE']"
      ]
    },
    {
      "cell_type": "markdown",
      "metadata": {
        "id": "aMycYtCHQqZb"
      },
      "source": [
        "## **Cambiamos el tipo de dato en FATALITIES de Float a Int ya que no pueden haber 1.5 decesos y si hay valores null o infinitos los reemplazamos por 0**."
      ]
    },
    {
      "cell_type": "code",
      "execution_count": 12,
      "metadata": {
        "id": "HJ737UQDPLhM"
      },
      "outputs": [],
      "source": [
        "df_braopti['FATALITIES'] = df_braopti['FATALITIES'].fillna(0)\n",
        "\n",
        "df_braopti['FATALITIES'] = df_braopti['FATALITIES'].astype(int)"
      ]
    },
    {
      "cell_type": "markdown",
      "metadata": {
        "id": "yKgSfOajRFaz"
      },
      "source": [
        "## **Vemos que cambio el tipo de dato correctamente**"
      ]
    },
    {
      "cell_type": "code",
      "execution_count": 13,
      "metadata": {
        "colab": {
          "base_uri": "https://localhost:8080/"
        },
        "id": "GnNn844SQWnx",
        "outputId": "7fb9728c-f4e6-48b2-81ca-5cdb22cafc02"
      },
      "outputs": [
        {
          "output_type": "execute_result",
          "data": {
            "text/plain": [
              "0        0\n",
              "1        0\n",
              "2        2\n",
              "3        1\n",
              "4        1\n",
              "        ..\n",
              "62853    2\n",
              "62854    0\n",
              "62855    0\n",
              "62856    0\n",
              "62857    1\n",
              "Name: FATALITIES, Length: 62858, dtype: int64"
            ]
          },
          "metadata": {},
          "execution_count": 13
        }
      ],
      "source": [
        "df_braopti['FATALITIES']"
      ]
    },
    {
      "cell_type": "markdown",
      "source": [
        "## **Creacion de Variables Sinteticas**"
      ],
      "metadata": {
        "id": "nxpAKCKc1ibt"
      }
    },
    {
      "cell_type": "markdown",
      "source": [
        "Creacion de variable sintetica y sus categorias en base a las fatalidades"
      ],
      "metadata": {
        "id": "KGFnJYhO3xlt"
      }
    },
    {
      "cell_type": "code",
      "source": [
        "def categorize_fatalities(value):\n",
        "    if value > 8:\n",
        "        return \"peligroso\"\n",
        "    elif 3 <= value <= 8:\n",
        "        return \"cautelar\"\n",
        "    else:\n",
        "        return \"leve\"\n",
        "\n",
        "\n",
        "df_braopti[\"FATALITIES_CATEGORY\"] = df_braopti[\"FATALITIES\"].apply(categorize_fatalities)\n",
        "\n",
        "print(df_braopti)"
      ],
      "metadata": {
        "colab": {
          "base_uri": "https://localhost:8080/"
        },
        "id": "C9DveKZn1sVN",
        "outputId": "7ed2dc37-2a52-40b7-dead-6ef75262efad"
      },
      "execution_count": 34,
      "outputs": [
        {
          "output_type": "stream",
          "name": "stdout",
          "text": [
            "       EVENT_DATE  EVENT_TYPE  SUB_EVENT_TYPE  ACTOR1  ACTOR2  COUNTRY  \\\n",
            "0               0           2              14      97     115        0   \n",
            "1               0           2              14      97     115        0   \n",
            "2               0           5               3     122      26        0   \n",
            "3               0           5               3     129      26        0   \n",
            "4               0           5               3     122      26        0   \n",
            "...           ...         ...             ...     ...     ...      ...   \n",
            "62853        1845           0               1     129     135        0   \n",
            "62854        1845           0               1     122     129        0   \n",
            "62855        1845           0               1     122     129        0   \n",
            "62856        1845           0               1     122     129        0   \n",
            "62857        1845           5               3     129      26        0   \n",
            "\n",
            "       LOCATION  LATITUDE  LONGITUDE  SOURCE_SCALE  NOTES  FATALITIES  \\\n",
            "0          3187   -5089.0   -42802.0             3   3455           0   \n",
            "1           959  -15596.0   -56097.0             3   4177           0   \n",
            "2          2722   -7948.0   -36206.0             3   4169           2   \n",
            "3          2358   -9389.0   -40503.0             3   4151           1   \n",
            "4          1131   -6773.0   -43012.0             3   4158           1   \n",
            "...         ...       ...        ...           ...    ...         ...   \n",
            "62853       627  -20443.0   -54646.0            14  25895           2   \n",
            "62854      2644  -22915.0   -43488.0             5  25901           0   \n",
            "62855      2642  -22857.0   -43301.0             5  25900           0   \n",
            "62856      2885  -22804.0   -43372.0             5  25904           0   \n",
            "62857      1007  -20142.0   -44889.0             3  25896           1   \n",
            "\n",
            "      FATALITIES_CATEGORY   AÑO  \n",
            "0                    leve  2018  \n",
            "1                    leve  2018  \n",
            "2                    leve  2018  \n",
            "3                    leve  2018  \n",
            "4                    leve  2018  \n",
            "...                   ...   ...  \n",
            "62853                leve  2023  \n",
            "62854                leve  2023  \n",
            "62855                leve  2023  \n",
            "62856                leve  2023  \n",
            "62857                leve  2023  \n",
            "\n",
            "[62858 rows x 14 columns]\n"
          ]
        }
      ]
    },
    {
      "cell_type": "markdown",
      "metadata": {
        "id": "UuzuF3uSSZFw"
      },
      "source": [
        "#  **Analisis Exploratorio**"
      ]
    },
    {
      "cell_type": "markdown",
      "metadata": {
        "id": "_sJ5pbxzZK5X"
      },
      "source": [
        "## **Eventos de protestas en Brazil**"
      ]
    },
    {
      "cell_type": "markdown",
      "metadata": {
        "id": "plwQuwO6ZmfY"
      },
      "source": [
        "A partir del exhaustivo estudio sobre diferentes tipos de eventos de protestas y violencia que ocurren en el país han sido categorizados seis tipos distintos, y para comprenderlos mejor se han utilizado diversas técnicas e instrumentos de recolección de información.\n",
        "\n",
        "Un análisis detallado revela que el tipo de evento más común es conocido como \"Batallas\". Estas manifestaciones se caracterizan por ser protestas no pacíficas, cuyo único propósito es generar violencia física hacia ciudadanos o fuerzas gubernamentales.\n",
        "\n",
        "Al observar el gráfico, podemos apreciar la distribución de cada uno de los tipos de eventos. Aunque las \"Batallas\" predominan en términos de cantidad, también es importante destacar la presencia de otros tipos de protestas y violencia, cada uno con sus particularidades y motivaciones específicas."
      ]
    },
    {
      "cell_type": "code",
      "execution_count": 15,
      "metadata": {
        "colab": {
          "base_uri": "https://localhost:8080/",
          "height": 744
        },
        "id": "zm9UyEQOU2uv",
        "outputId": "961cb4e1-11d8-43d8-bbab-49af9197bdb9"
      },
      "outputs": [
        {
          "output_type": "display_data",
          "data": {
            "text/plain": [
              "<Figure size 1000x600 with 1 Axes>"
            ],
            "image/png": "[encoded data removed]"
          },
          "metadata": {}
        }
      ],
      "source": [
        "import matplotlib.pyplot as plt\n",
        "\n",
        "\n",
        "event_counts = df_braopti['EVENT_TYPE'].value_counts()\n",
        "\n",
        "plt.figure(figsize=(10, 6))\n",
        "event_counts.plot(kind='bar')\n",
        "plt.xlabel('Tipo de Evento')\n",
        "plt.ylabel('Cantidad')\n",
        "plt.title('Conteo Total de Tipos de Evento en Brasil')\n",
        "\n",
        "\n",
        "plt.show()\n"
      ]
    },
    {
      "cell_type": "markdown",
      "metadata": {
        "id": "trpsByPud0N3"
      },
      "source": [
        "## **Top 5 Subtipos de eventos mas comunes en Brazil**"
      ]
    },
    {
      "cell_type": "markdown",
      "metadata": {
        "id": "-i9WFVTWeaiv"
      },
      "source": [
        "Ademas de los tipos de eventos de protestas en Brazil hemos desarrollado una lista de Subtipos, que son acciones que se desenlazan dentro de los eventos.\n",
        "La mas comun son los enfrentamientos armados, Brasil enfrenta desafíos significativos en lo que respecta a la presencia y el acceso a armas de fuego. El país tiene una alta incidencia de armas de fuego en circulación, lo que ha contribuido a un aumento de la violencia armada y los delitos relacionados.\n",
        "Las protestas pacificas tambien por detras de los enfrentamientos armados son comunes en dicho territorio, en las cuales los ciudadanos expresan sus opiniones, demandas y preocupaciones de manera no violenta. Estas manifestaciones suelen ser parte del ejercicio del derecho a la libertad de expresión y reunión.\n",
        "En muchas ocasiones, estas manifestaciones pacíficas se organizan mediante convocatorias en redes sociales, grupos de activistas y organizaciones de la sociedad civil. Los participantes suelen llevar pancartas, banderas, realizar marchas, concentraciones o actos simbólicos para visibilizar sus demandas y generar conciencia en la opinión pública y las autoridades.\n",
        "Es importante destacar que el derecho a la protesta pacífica está protegido por la Constitución brasileña y por instrumentos internacionales de derechos humanos. Sin embargo, es necesario que estas protestas se desarrollen dentro de los límites legales y respetando los derechos de los demás ciudadanos.\n",
        "Las protestas pacíficas desempeñan un papel fundamental en la democracia, ya que permiten a la ciudadanía expresar sus inquietudes y contribuyen al debate público y a la búsqueda de soluciones a los problemas sociales.\n",
        "\n"
      ]
    },
    {
      "cell_type": "code",
      "execution_count": 16,
      "metadata": {
        "colab": {
          "base_uri": "https://localhost:8080/",
          "height": 675
        },
        "id": "anZvvo-_WWI4",
        "outputId": "35ad31c1-8457-4dc9-d30c-fefccfc80b68"
      },
      "outputs": [
        {
          "output_type": "display_data",
          "data": {
            "text/plain": [
              "<Figure size 800x800 with 1 Axes>"
            ],
            "image/png": "[encoded data removed]"
          },
          "metadata": {}
        }
      ],
      "source": [
        "\n",
        "\n",
        "import matplotlib.pyplot as plt\n",
        "\n",
        "sub_event_counts = df_braopti['SUB_EVENT_TYPE'].value_counts()\n",
        "\n",
        "top_10_sub_events = sub_event_counts.head(5)\n",
        "\n",
        "colores = ['lightblue', 'lightgreen', 'pink', 'lightcoral', 'lightsalmon']\n",
        "\n",
        "total = sum(top_10_sub_events)\n",
        "\n",
        "fig, ax = plt.subplots(figsize=(8, 8))\n",
        "wedges, labels, autopct = ax.pie(top_10_sub_events, colors=colores, autopct='%1.1f%%', startangle=90, pctdistance=0.85)\n",
        "\n",
        "plt.setp(labels, fontsize=10)\n",
        "\n",
        "\n",
        "for i, p in enumerate(autopct):\n",
        "    if top_10_sub_events.values[i] / total < 0.022:\n",
        "        autopct[i] = ''\n",
        "\n",
        "\n",
        "ax.legend(wedges, top_10_sub_events.index, loc='center left', bbox_to_anchor=(1, 0.5))\n",
        "plt.title('Top 5 de Subtipos de Eventos más Frecuentes en Brasil')\n",
        "\n",
        "plt.show()\n",
        "\n"
      ]
    },
    {
      "cell_type": "markdown",
      "metadata": {
        "id": "XWobqcDhgKzo"
      },
      "source": [
        "## **Escala del conflicto**"
      ]
    },
    {
      "cell_type": "markdown",
      "metadata": {
        "id": "NwiDxiJjgWgP"
      },
      "source": [
        "La escala de conflicto a nivel territorial  aqui utilizada , se refiere a una clasificación o categorización que se utilizamos para medir y evaluar la intensidad o gravedad de un conflicto en un determinado territorio o área geográfica. Esta busca proporcionar una comprensión más clara y sistemática de la situación conflictiva y permite comparar diferentes conflictos entre sí.\n",
        "Como vemos en el grafico siguiente, las escalas de conflicto nacional y subnacional son las mas abarcativas.\n",
        "En forma explicativa  un conflicto nacional, se refiere a un conflicto que abarca todo el territorio de un país, mientras un conflicto subnacional, se refiere a conflictos que ocurren en una región o área geográfica específica dentro de un país. Es importante señalar que los conflictos pueden evolucionar y cambiar de escala con el tiempo. Lo que puede comenzar como un conflicto subnacional en una región específica puede escalar y convertirse en un conflicto nacional si no se resuelven adecuadamente"
      ]
    },
    {
      "cell_type": "code",
      "execution_count": 17,
      "metadata": {
        "colab": {
          "base_uri": "https://localhost:8080/",
          "height": 727
        },
        "id": "6Rn-H09aX87o",
        "outputId": "9e363aa1-dfb6-4943-a9e2-dbf481aae0b8"
      },
      "outputs": [
        {
          "output_type": "display_data",
          "data": {
            "text/plain": [
              "<Figure size 1000x600 with 1 Axes>"
            ],
            "image/png": "[encoded data removed]"
          },
          "metadata": {}
        }
      ],
      "source": [
        "import matplotlib.pyplot as plt\n",
        "\n",
        "\n",
        "source_scale_counts = df_braopti['SOURCE_SCALE'].value_counts()\n",
        "\n",
        "\n",
        "plt.figure(figsize=(10, 6))\n",
        "source_scale_counts.plot(kind='bar')\n",
        "plt.xlabel('Escala')\n",
        "plt.ylabel('Cantidad')\n",
        "plt.title('Escala del conflicto')\n",
        "\n",
        "\n",
        "plt.show()\n"
      ]
    },
    {
      "cell_type": "markdown",
      "metadata": {
        "id": "3vhjAmY5bk4A"
      },
      "source": [
        "## **Ubicaciones mas frecuentes de las protestas**"
      ]
    },
    {
      "cell_type": "markdown",
      "metadata": {
        "id": "qtrEpyflbtmu"
      },
      "source": [
        "Brasil es el quinto país más grande del mundo en términos de área terrestre. Tiene una superficie total de aproximadamente 8.515.767 kilómetros cuadrados, lo que equivale a 3.287.956 millas cuadradas, En cuanto a la población, Brasil tiene una población estimada de alrededor de 213,99 millones de habitantes.\n",
        "Río de Janeiro, se estima en aproximadamente 6.75 millones de habitantes, es la segunda ciudad más poblada de Brasil, después de São Paulo.\n",
        "Dada que en la grafica realizada es Rio de Janeiro la ciudad con mayor cantidad de protestas, es convincente poder agregar informacion al respecto para que nuestro publico entienda el contexto relacionado a los datos:\n",
        "\n",
        "Desigualdad social,Río de Janeiro es una ciudad con marcadas disparidades socioeconómicas.\n",
        "Problemas de seguridad,Río de Janeiro ha enfrentado desafíos en cuanto a la seguridad pública. El crimen organizado, la violencia urbana y la percepción de inseguridad pueden llevar a protestas para exigir medidas más efectivas por parte del gobierno en la lucha contra la delincuencia.\n",
        "Corrupción,la corrupción es un problema que afecta a todo Brasil, y Río de Janeiro no es una excepción. Escándalos de corrupción en el gobierno local o en instituciones públicas pueden generar indignación y movilizar a la población para protestar contra la impunidad y exigir transparencia y rendición de cuentas.\n",
        "Problemas ambientales,Río de Janeiro se enfrenta a desafíos ambientales, como la contaminación del agua, la deforestación y la falta de acceso a servicios básicos en algunas áreas. Estos problemas pueden llevar a protestas por parte de grupos ambientalistas y de la sociedad civil que buscan proteger el medio ambiente y mejorar la calidad de vida de los residentes.\n",
        "Descontento político,las protestas también son una expresión del descontento generalizado hacia el gobierno, ya sea a nivel local, estatal o federal. Las demandas pueden variar, desde críticas a políticas específicas hasta la exigencia de cambios en la estructura política y la participación ciudadana.\n",
        "\n",
        "Las demas ciudades de la lista, aunque con sus propias caracteristicas y demandas, en menor o mayor medida tambien comparten las problematicas aqui descriptas."
      ]
    },
    {
      "cell_type": "code",
      "execution_count": 18,
      "metadata": {
        "colab": {
          "base_uri": "https://localhost:8080/",
          "height": 750
        },
        "id": "h60fnEYgVyyI",
        "outputId": "5974f134-5c26-425b-8b80-282e47a23f89"
      },
      "outputs": [
        {
          "output_type": "display_data",
          "data": {
            "text/plain": [
              "<Figure size 1000x600 with 1 Axes>"
            ],
            "image/png": "[encoded data removed]"
          },
          "metadata": {}
        }
      ],
      "source": [
        "value_counts_location = df_braopti['LOCATION'].value_counts()\n",
        "\n",
        "\n",
        "top_10_locations = value_counts_location.head(10)\n",
        "\n",
        "\n",
        "plt.figure(figsize=(10, 6))\n",
        "top_10_locations.plot(kind='bar')\n",
        "plt.xlabel('Ubicación')\n",
        "plt.ylabel('Cantidad')\n",
        "plt.title('Top 10 de Ubicaciones más Frecuentes en Brasil')\n",
        "\n",
        "\n",
        "plt.show()"
      ]
    },
    {
      "cell_type": "markdown",
      "metadata": {
        "id": "vcX-8163ifxI"
      },
      "source": [
        "## **Protestas en años**"
      ]
    },
    {
      "cell_type": "markdown",
      "metadata": {
        "id": "qN_4L2zniz94"
      },
      "source": [
        "En los ultimos años la sumatoria de las protestas en Brasil nos arroja que se mantienen por encima de las diez mil anuales, siendo de diferentes indoles, propositos y objetivos, pasando por diferentes gobiernos, politicas y leyes.\n",
        "La protesta es una forma de representacion ciudadana ante situaciones que no les son beneficiosas en su total mayoria. Como vemos el pico de los ultimos cinco años fue en el 2018 superando las dieciseis mil protestas anuales. Actualmente la recoleccion de los datos solo llega hasta una parte del año en curso por razones obvias, pero siguiendo la tendencia esperamos que se mantenga en la media anual aqui demostrada."
      ]
    },
    {
      "cell_type": "code",
      "execution_count": 19,
      "metadata": {
        "colab": {
          "base_uri": "https://localhost:8080/",
          "height": 564
        },
        "id": "RGadWA8ZYJAA",
        "outputId": "827c3f8f-27d8-488b-951d-bbf970a065b4"
      },
      "outputs": [
        {
          "output_type": "display_data",
          "data": {
            "text/plain": [
              "<Figure size 1000x600 with 1 Axes>"
            ],
            "image/png": "[encoded data removed]"
          },
          "metadata": {}
        }
      ],
      "source": [
        "\n",
        "\n",
        "df_braopti['EVENT_DATE'] = pd.to_datetime(df_braopti['EVENT_DATE'])\n",
        "\n",
        "events_by_year = df_braopti['EVENT_DATE'].dt.year.value_counts().sort_index()\n",
        "\n",
        "plt.figure(figsize=(10, 6))\n",
        "events_by_year.plot(kind='line', marker='o')\n",
        "plt.xlabel('Año')\n",
        "plt.ylabel('Cantidad de eventos')\n",
        "plt.title('Cantidad de protestas por año en Brasil')\n",
        "\n",
        "plt.show()\n"
      ]
    },
    {
      "cell_type": "markdown",
      "source": [
        "## **Cantidad de Fatalidades totales por tipo de Evento**"
      ],
      "metadata": {
        "id": "hL7jONnAa6Zh"
      }
    },
    {
      "cell_type": "markdown",
      "source": [
        "Aquí nos interesaba saber la cantidad de fatalidades que había en total por tipo de protestas en Brasil. Como bien puede observarse, hay una gran diferencia entre dos de los tipos de protestas con los demás. La 'Violencia con Civiles' y las 'Batallas' son quienes por mucho llevan la delantera en cuanto a decesos.\n",
        "Esta disparidad en el número de fatalidades sugiere que estos dos tipos de protestas pueden ser particularmente peligrosos tanto para los manifestantes como para las fuerzas de seguridad. Sería relevante a futuro investigar más a fondo las circunstancias y los factores que contribuyen a la alta mortalidad en estos tipos de eventos, con el objetivo de encontrar formas de reducir los riesgos y mejorar la seguridad durante las protestas en Brasil."
      ],
      "metadata": {
        "id": "5UGAlZvWcaRC"
      }
    },
    {
      "cell_type": "code",
      "source": [
        "fatalities_by_event = df_braopti.groupby('EVENT_TYPE')['FATALITIES'].sum()\n",
        "fatalities_by_event = fatalities_by_event.sort_values(ascending=False)\n",
        "plt.figure(figsize=(12, 6))\n",
        "fatalities_by_event.plot(kind='bar', color='skyblue')\n",
        "plt.title('Fatalidades por Tipo de Evento')\n",
        "plt.xlabel('Tipo de Evento')\n",
        "plt.ylabel('Total de Fatalidades')\n",
        "plt.xticks(rotation=90)\n",
        "plt.tight_layout()\n",
        "plt.show()\n"
      ],
      "metadata": {
        "colab": {
          "base_uri": "https://localhost:8080/",
          "height": 607
        },
        "id": "FBedncdPbEnK",
        "outputId": "62fa2c54-d93b-4e9e-b6aa-9cfd47f34b04"
      },
      "execution_count": 20,
      "outputs": [
        {
          "output_type": "display_data",
          "data": {
            "text/plain": [
              "<Figure size 1200x600 with 1 Axes>"
            ],
            "image/png": "[encoded data removed]"
          },
          "metadata": {}
        }
      ]
    },
    {
      "cell_type": "markdown",
      "source": [
        "## **Cantidad de Fatalidades totales por año**"
      ],
      "metadata": {
        "id": "VuIZ-8tcdcZz"
      }
    },
    {
      "cell_type": "markdown",
      "source": [
        "En este gráfico vemos que el año con mayor número de fatalidades es el 2022, con un marcado aumento en comparación con los años anteriores. Esto sugiere que el año 2022 fue particularmente peligroso en términos de eventos con fatalidades. Es importante destacar que este aumento significativo en las fatalidades coincide con un período específico y puede ser indicativo de desafíos de seguridad y situaciones críticas que se vivieron durante ese año en Brasil.\n",
        "\n",
        "Por otro lado, el año con la menor cantidad de fatalidades es el 2019, lo que indica un período relativamente más tranquilo en términos de eventos violentos con consecuencias fatales en el país. Sin embargo, es crucial recordar que detrás de cada cifra de fatalidad hay vidas y familias afectadas. Estos datos destacan la importancia de la seguridad y la prevención de conflictos en Brasil, así como la necesidad de un análisis detallado para comprender los factores que contribuyen a estas fluctuaciones en el número de fatalidades a lo largo de los años en el país."
      ],
      "metadata": {
        "id": "ovvJpc0Setgq"
      }
    },
    {
      "cell_type": "code",
      "source": [
        "\n",
        "df_braopti['EVENT_DATE'] = pd.to_datetime(df_braopti['EVENT_DATE'])\n",
        "df_braopti['AÑO'] = df_braopti['EVENT_DATE'].dt.year\n",
        "fatalities_by_year = df_braopti.groupby('AÑO')['FATALITIES'].sum()\n",
        "plt.figure(figsize=(12, 6))\n",
        "fatalities_by_year.plot(kind='bar', color='skyblue')\n",
        "plt.title('Cantidad de Fatalidades Totales por Año')\n",
        "plt.xlabel('Año')\n",
        "plt.ylabel('Total de Fatalidades')\n",
        "plt.xticks(rotation=45)\n",
        "plt.tight_layout()\n",
        "plt.show()\n"
      ],
      "metadata": {
        "colab": {
          "base_uri": "https://localhost:8080/",
          "height": 607
        },
        "id": "tQhR-vurdmbq",
        "outputId": "8bfaed20-a08e-4d3e-ccf2-959950d69d77"
      },
      "execution_count": 21,
      "outputs": [
        {
          "output_type": "display_data",
          "data": {
            "text/plain": [
              "<Figure size 1200x600 with 1 Axes>"
            ],
            "image/png": "[encoded data removed]"
          },
          "metadata": {}
        }
      ]
    },
    {
      "cell_type": "markdown",
      "source": [
        "## **Distribuicion de los tipos de eventos por Año**"
      ],
      "metadata": {
        "id": "n4ABu2m4iUxC"
      }
    },
    {
      "cell_type": "markdown",
      "source": [
        "En este gráfico vemos que el año con más eventos fue el 2018. Tal como lo analizamos anteriormente, los tres tipos de eventos más comunes son 'Batallas', 'Protestas' y 'Violencia con Civiles', con una gran ventaja en relación a los otros tipos de eventos. Esto sugiere que estos tres tipos de eventos son recurrentes y pueden estar relacionados con situaciones específicas en Brasil que generan movilizaciones y conflictos.\n",
        "\n",
        "Por otra parte, el año con menos eventos fue el 2020, lo que indica una disminución en la actividad en comparación con años anteriores. Sin embargo, es importante recordar que la cantidad de eventos no siempre refleja la intensidad o gravedad de las situaciones que subyacen a ellos."
      ],
      "metadata": {
        "id": "dg0UE4Cwix1L"
      }
    },
    {
      "cell_type": "code",
      "source": [
        "df_braopti['EVENT_DATE'] = pd.to_datetime(df_braopti['EVENT_DATE'])\n",
        "df_braopti['AÑO'] = df_braopti['EVENT_DATE'].dt.year\n",
        "event_counts_by_year = pd.crosstab(df_braopti['AÑO'], df_braopti['EVENT_TYPE'])\n",
        "event_counts_by_year.plot(kind='bar', stacked=True, figsize=(12, 6))\n",
        "plt.xlabel('Año')\n",
        "plt.ylabel('Cantidad')\n",
        "plt.title('Distribución de Eventos por Año en Brasil')\n",
        "plt.legend(title='Tipo de Evento', bbox_to_anchor=(1.05, 1), loc='upper left')\n",
        "plt.tight_layout()\n",
        "plt.show()\n"
      ],
      "metadata": {
        "colab": {
          "base_uri": "https://localhost:8080/",
          "height": 606
        },
        "id": "mmz77WHDiDoL",
        "outputId": "f008149c-6d2c-4015-91e0-3254ae42c020"
      },
      "execution_count": 22,
      "outputs": [
        {
          "output_type": "display_data",
          "data": {
            "text/plain": [
              "<Figure size 1200x600 with 1 Axes>"
            ],
            "image/png": "[encoded data removed]"
          },
          "metadata": {}
        }
      ]
    },
    {
      "cell_type": "markdown",
      "metadata": {
        "id": "YByO1b3Ys-7E"
      },
      "source": [
        "# Modelo de Machine Learning"
      ]
    },
    {
      "cell_type": "markdown",
      "source": [
        "## Convierto mis variables en numericas"
      ],
      "metadata": {
        "id": "nV8YBe_Gv9fE"
      }
    },
    {
      "cell_type": "code",
      "source": [
        "from sklearn.preprocessing import LabelEncoder\n",
        "\n",
        "LE = LabelEncoder()\n",
        "\n",
        "df_braopti['EVENT_DATE'] = LE.fit_transform(df_braopti['EVENT_DATE'])\n",
        "df_braopti['EVENT_TYPE'] = LE.fit_transform(df_braopti['EVENT_TYPE'])\n",
        "df_braopti['SUB_EVENT_TYPE'] = LE.fit_transform(df_braopti['SUB_EVENT_TYPE'])\n",
        "df_braopti['ACTOR1'] = LE.fit_transform(df_braopti['ACTOR1'])\n",
        "df_braopti['ACTOR2'] = LE.fit_transform(df_braopti['ACTOR2'])\n",
        "df_braopti['COUNTRY'] = LE.fit_transform(df_braopti['COUNTRY'])\n",
        "df_braopti['LOCATION'] = LE.fit_transform(df_braopti['LOCATION'])\n",
        "df_braopti['SOURCE_SCALE'] = LE.fit_transform(df_braopti['SOURCE_SCALE'])\n",
        "df_braopti['NOTES'] = LE.fit_transform(df_braopti['NOTES'])\n",
        "df_braopti['FATALITIES_CATEGORY'] = LE.fit_transform(df_braopti['FATALITIES_CATEGORY'])\n",
        "\n",
        "df_braopti.shape\n"
      ],
      "metadata": {
        "colab": {
          "base_uri": "https://localhost:8080/"
        },
        "id": "IKcUpgoPFG89",
        "outputId": "b3b02815-9c4d-40ee-a8ea-8cc7ad9f86d2"
      },
      "execution_count": 23,
      "outputs": [
        {
          "output_type": "execute_result",
          "data": {
            "text/plain": [
              "(62858, 14)"
            ]
          },
          "metadata": {},
          "execution_count": 23
        }
      ]
    },
    {
      "cell_type": "markdown",
      "source": [
        "## Elijo mi variable objetivo"
      ],
      "metadata": {
        "id": "4sb5lnruwD70"
      }
    },
    {
      "cell_type": "code",
      "source": [
        "from sklearn.preprocessing import StandardScaler\n",
        "from sklearn.decomposition import PCA\n",
        "from sklearn.ensemble import RandomForestClassifier\n",
        "from sklearn.model_selection import train_test_split\n",
        "from sklearn.metrics import accuracy_score, precision_score, recall_score, f1_score, confusion_matrix, roc_curve, auc\n",
        "from sklearn.metrics import confusion_matrix\n",
        "\n",
        "\n",
        "X = df_braopti.drop(columns=['EVENT_TYPE'])\n",
        "y = df_braopti['EVENT_TYPE']\n",
        "\n"
      ],
      "metadata": {
        "id": "KFc85Knqa_c5"
      },
      "execution_count": 24,
      "outputs": []
    },
    {
      "cell_type": "markdown",
      "source": [
        "## Estandarizo las caracteristicas"
      ],
      "metadata": {
        "id": "fammcCVgwJ0q"
      }
    },
    {
      "cell_type": "code",
      "source": [
        "\n",
        "scaler = StandardScaler()\n",
        "X_scaled = scaler.fit_transform(X)\n"
      ],
      "metadata": {
        "id": "cUI_mW7vvfLq"
      },
      "execution_count": 25,
      "outputs": []
    },
    {
      "cell_type": "markdown",
      "source": [
        "## **Vemos graficado el numero optimo de componentes principales**"
      ],
      "metadata": {
        "id": "dJzvHuDR81Hu"
      }
    },
    {
      "cell_type": "code",
      "source": [
        "import matplotlib.pyplot as plt\n",
        "import numpy as np\n",
        "from sklearn.decomposition import PCA\n",
        "\n",
        "\n",
        "\n",
        "\n",
        "pca = PCA()\n",
        "pca.fit(X_scaled)\n",
        "explained_variance = pca.explained_variance_ratio_\n",
        "cumulative_variance = np.cumsum(explained_variance)\n",
        "plt.figure(figsize=(10, 6))\n",
        "plt.plot(range(1, len(cumulative_variance) + 1), cumulative_variance, marker='o')\n",
        "plt.xlabel('Número de Componentes Principales')\n",
        "plt.ylabel('Varianza Acumulada Explicada')\n",
        "plt.title('Método del Codo - Varianza Acumulada Explicada por Componente Principal')\n",
        "plt.xticks(range(1, len(cumulative_variance) + 1))\n",
        "plt.show()\n"
      ],
      "metadata": {
        "colab": {
          "base_uri": "https://localhost:8080/",
          "height": 565
        },
        "id": "jAsfdkRN7AL-",
        "outputId": "cca4985c-1237-4949-9c2a-ee2eb044442b"
      },
      "execution_count": 35,
      "outputs": [
        {
          "output_type": "display_data",
          "data": {
            "text/plain": [
              "<Figure size 1000x600 with 1 Axes>"
            ],
            "image/png": "[encoded data removed]"
          },
          "metadata": {}
        }
      ]
    },
    {
      "cell_type": "markdown",
      "source": [
        "## Aplico PCA para reducir la dimnensionalidad elijiendo 11 componentes principales"
      ],
      "metadata": {
        "id": "1KQ7NP7dwOta"
      }
    },
    {
      "cell_type": "code",
      "source": [
        "\n",
        "n_components = 11\n",
        "pca = PCA(n_components=n_components)\n",
        "X_pca = pca.fit_transform(X_scaled)\n"
      ],
      "metadata": {
        "id": "dgCbdc18vqYD"
      },
      "execution_count": 27,
      "outputs": []
    },
    {
      "cell_type": "markdown",
      "source": [
        "## **Entreno 4 modelos diferentes de RandomForestClassifier en cantidad de Arboles para ver cual se ajusta de la mejor manera y visualizamos el resultado**"
      ],
      "metadata": {
        "id": "W3_uYgAy5jAO"
      }
    },
    {
      "cell_type": "code",
      "source": [
        "from sklearn.model_selection import train_test_split\n",
        "from sklearn.ensemble import RandomForestClassifier\n",
        "from sklearn.metrics import accuracy_score\n",
        "import matplotlib.pyplot as plt\n",
        "\n",
        "\n",
        "X_train, X_test, y_train, y_test = train_test_split(X_pca, y, test_size=0.2, random_state=42)\n",
        "\n",
        "model_complexities = [1, 10, 50, 100]\n",
        "accuracy_scores = []\n",
        "\n",
        "for complexity in model_complexities:\n",
        "    clf = RandomForestClassifier(n_estimators=complexity, random_state=42)\n",
        "    clf.fit(X_train, y_train)\n",
        "    y_pred = clf.predict(X_test)\n",
        "    accuracy = accuracy_score(y_test, y_pred)\n",
        "    accuracy_scores.append(accuracy)\n",
        "\n",
        "\n",
        "plt.plot(model_complexities, accuracy_scores, marker='o')\n",
        "plt.xlabel('Número de Árboles')\n",
        "plt.ylabel('Precisión en el Conjunto de Prueba')\n",
        "plt.title('Trade-off entre Sesgo y Varianza')\n",
        "plt.show()\n"
      ],
      "metadata": {
        "colab": {
          "base_uri": "https://localhost:8080/",
          "height": 472
        },
        "id": "b6WO0DZi5OU9",
        "outputId": "2067ee99-3cd2-4bf6-b1c4-7cf9be2fd724"
      },
      "execution_count": 32,
      "outputs": [
        {
          "output_type": "display_data",
          "data": {
            "text/plain": [
              "<Figure size 640x480 with 1 Axes>"
            ],
            "image/png": "[encoded data removed]"
          },
          "metadata": {}
        }
      ]
    },
    {
      "cell_type": "markdown",
      "source": [
        "## **Entreno el modelo de RandomForestClassifier Segun lo indicado en el grafico anterior**"
      ],
      "metadata": {
        "id": "DY3NqC1u_HyG"
      }
    },
    {
      "cell_type": "code",
      "source": [
        "feature_names = [\n",
        "    'EVENT_DATE',\n",
        "    'EVENT_TYPE',\n",
        "    'SUB_EVENT_TYPE',\n",
        "    'ACTOR1',\n",
        "    'ACTOR2',\n",
        "    'COUNTRY',\n",
        "    'LOCATION',\n",
        "    'SOURCE_SCALE',\n",
        "    'NOTES',\n",
        "    'FATALITIES_CATEGORY' ,\n",
        "    'FATALITIES'\n",
        "]\n",
        "\n",
        "\n",
        "X_train, X_test, y_train, y_test = train_test_split(X_pca, y, test_size=0.2, random_state=42)\n",
        "\n",
        "\n",
        "clf = RandomForestClassifier(n_estimators=100, random_state=42)\n",
        "clf.fit(X_train, y_train)\n",
        "\n",
        "\n",
        "y_pred = clf.predict(X_test)\n",
        "\n",
        "accuracy = accuracy_score(y_test, y_pred)\n",
        "precision = precision_score(y_test, y_pred, average='macro')\n",
        "recall = recall_score(y_test, y_pred, average='macro')\n",
        "f1 = f1_score(y_test, y_pred, average='macro')\n",
        "\n",
        "print(f\"Precisión del modelo: {accuracy:.2f}\")\n",
        "print(f\"Precisión: {precision:.2f}\")\n",
        "print(f\"Recall: {recall:.2f}\")\n",
        "print(f\"F1-Score: {f1:.2f}\")\n",
        "\n",
        "print(\"\")\n",
        "confusion = confusion_matrix(y_test, y_pred)\n",
        "print(f\"Matriz de Confusión:\\n{confusion}\")\n",
        "\n",
        "feature_importances = clf.feature_importances_\n",
        "\n",
        "print(\"\")\n",
        "print(\"Importancia de Características:\")\n",
        "for feature, importance in zip(feature_names, feature_importances):\n",
        "    print(f\"{feature}: {importance:.4f}\")"
      ],
      "metadata": {
        "id": "TOJ4UXe_8WE5",
        "colab": {
          "base_uri": "https://localhost:8080/"
        },
        "outputId": "958875d2-1c60-4a00-ec56-3682008ece06"
      },
      "execution_count": 36,
      "outputs": [
        {
          "output_type": "stream",
          "name": "stdout",
          "text": [
            "Precisión del modelo: 0.98\n",
            "Precisión: 0.98\n",
            "Recall: 0.93\n",
            "F1-Score: 0.95\n",
            "\n",
            "Matriz de Confusión:\n",
            "[[4074    0    0    0    1   55]\n",
            " [   0  106    1   25    2    1]\n",
            " [   2    0 4008    8    3    0]\n",
            " [   7    0   21  675    1    4]\n",
            " [  37    0    4   16  374    8]\n",
            " [  19    0    0    6    3 3111]]\n",
            "\n",
            "Importancia de Características:\n",
            "EVENT_DATE: 0.1403\n",
            "EVENT_TYPE: 0.1053\n",
            "SUB_EVENT_TYPE: 0.1162\n",
            "ACTOR1: 0.0542\n",
            "ACTOR2: 0.0451\n",
            "COUNTRY: 0.0097\n",
            "LOCATION: 0.0497\n",
            "SOURCE_SCALE: 0.0235\n",
            "NOTES: 0.1035\n",
            "FATALITIES_CATEGORY: 0.2029\n",
            "FATALITIES: 0.1496\n"
          ]
        }
      ]
    },
    {
      "cell_type": "markdown",
      "source": [
        "## **Aplico Validación Cruzada K-Fold**\n",
        "\n",
        "\n"
      ],
      "metadata": {
        "id": "5_arTWyM5Lx0"
      }
    },
    {
      "cell_type": "code",
      "source": [
        "from sklearn.model_selection import cross_val_score\n",
        "\n",
        "\n",
        "clf = RandomForestClassifier(n_estimators=50, random_state=42)\n",
        "scores = cross_val_score(clf, X_pca, y, cv=5, scoring='accuracy')\n",
        "\n",
        "print(\"Puntajes de Precisión en Validación Cruzada:\")\n",
        "for i, score in enumerate(scores, 1):\n",
        "    print(f\"Pliegue {i}: {score:.2f}\")\n",
        "\n",
        "average_accuracy = scores.mean()\n",
        "print(\"\\nPuntaje Promedio de Precisión en Validación Cruzada:\", average_accuracy)\n",
        "\n",
        "\n"
      ],
      "metadata": {
        "colab": {
          "base_uri": "https://localhost:8080/"
        },
        "id": "tQENOmo_1D5E",
        "outputId": "58fa8655-55a2-48c8-baaf-9050a7190bb1"
      },
      "execution_count": 37,
      "outputs": [
        {
          "output_type": "stream",
          "name": "stdout",
          "text": [
            "Puntajes de Precisión en Validación Cruzada:\n",
            "Pliegue 1: 0.98\n",
            "Pliegue 2: 0.96\n",
            "Pliegue 3: 0.98\n",
            "Pliegue 4: 0.98\n",
            "Pliegue 5: 0.75\n",
            "\n",
            "Puntaje Promedio de Precisión en Validación Cruzada: 0.9293624873777713\n"
          ]
        }
      ]
    },
    {
      "cell_type": "markdown",
      "source": [
        "## **Entreno un modelo de SVC**"
      ],
      "metadata": {
        "id": "G1NF06PDB7PA"
      }
    },
    {
      "cell_type": "code",
      "source": [
        "import pandas as pd\n",
        "from sklearn.model_selection import train_test_split\n",
        "from sklearn.svm import SVC\n",
        "from sklearn.metrics import accuracy_score, precision_score, recall_score, f1_score, confusion_matrix\n",
        "\n",
        "\n",
        "\n",
        "X_train, X_test, y_train, y_test = train_test_split(X_pca, y, test_size=0.2, random_state=42)\n",
        "\n",
        "clf = SVC(kernel='linear', random_state=42)\n",
        "clf.fit(X_train, y_train)\n",
        "y_pred = clf.predict(X_test)\n",
        "\n",
        "accuracy = accuracy_score(y_test, y_pred)\n",
        "precision = precision_score(y_test, y_pred, average='macro')\n",
        "recall = recall_score(y_test, y_pred, average='macro')\n",
        "f1 = f1_score(y_test, y_pred, average='macro')\n",
        "\n",
        "print(f\"Precisión del modelo: {accuracy:.2f}\")\n",
        "print(f\"Precisión: {precision:.2f}\")\n",
        "print(f\"Recall: {recall:.2f}\")\n",
        "print(f\"F1-Score: {f1:.2f}\")\n",
        "\n",
        "print(\"\")\n",
        "confusion = confusion_matrix(y_test, y_pred)\n",
        "print(f\"Matriz de Confusión:\\n{confusion}\")\n",
        "\n",
        "if 'feature_names' in locals():\n",
        "    feature_importances = clf.coef_.flatten()\n",
        "\n",
        "    print(\"\")\n",
        "    print(\"Importancia de Características:\")\n",
        "    for feature, importance in zip(feature_names, feature_importances):\n",
        "        print(f\"{feature}: {importance:.4f}\")\n"
      ],
      "metadata": {
        "colab": {
          "base_uri": "https://localhost:8080/"
        },
        "id": "NAyq0AgyBd_Y",
        "outputId": "a2ff4ea7-ab51-416f-bbed-a357f60d4eea"
      },
      "execution_count": 38,
      "outputs": [
        {
          "output_type": "stream",
          "name": "stdout",
          "text": [
            "Precisión del modelo: 0.99\n",
            "Precisión: 0.98\n",
            "Recall: 0.98\n",
            "F1-Score: 0.98\n",
            "\n",
            "Matriz de Confusión:\n",
            "[[4130    0    0    0    0    0]\n",
            " [   0  130    3    0    2    0]\n",
            " [   0    0 4018    1    2    0]\n",
            " [   0    0    0  708    0    0]\n",
            " [   5    1    6    3  418    6]\n",
            " [  41   11    7    0    0 3080]]\n",
            "\n",
            "Importancia de Características:\n",
            "EVENT_DATE: 0.5534\n",
            "EVENT_TYPE: 0.5229\n",
            "SUB_EVENT_TYPE: 0.3503\n",
            "ACTOR1: -0.4426\n",
            "ACTOR2: -0.4277\n",
            "COUNTRY: 0.1505\n",
            "LOCATION: -0.5234\n",
            "SOURCE_SCALE: -0.3751\n",
            "NOTES: 0.9425\n",
            "FATALITIES_CATEGORY: -0.4261\n",
            "FATALITIES: -0.6748\n"
          ]
        }
      ]
    },
    {
      "cell_type": "markdown",
      "source": [
        "## **Aplico Validación Cruzada K-Fold al Modelo SVC**"
      ],
      "metadata": {
        "id": "i3XCK4hzDX1g"
      }
    },
    {
      "cell_type": "code",
      "source": [
        "\n",
        "from sklearn.svm import SVC\n",
        "from sklearn.metrics import make_scorer\n",
        "\n",
        "clf = SVC(kernel='linear', random_state=42)\n",
        "scores = cross_val_score(clf, X_pca, y, cv=5, scoring=make_scorer(accuracy_score))\n",
        "\n",
        "print(\"Puntajes de Precisión en Validación Cruzada:\")\n",
        "for i, score in enumerate(scores, 1):\n",
        "    print(f\"Pliegue {i}: {score:.2f}\")\n",
        "average_accuracy = np.mean(scores)\n",
        "print(\"\\nPuntaje Promedio de Precisión en Validación Cruzada:\", average_accuracy)\n"
      ],
      "metadata": {
        "colab": {
          "base_uri": "https://localhost:8080/"
        },
        "id": "voO3TjzBCEWb",
        "outputId": "86b6aa9f-1729-4973-9092-bc73402bd331"
      },
      "execution_count": 39,
      "outputs": [
        {
          "output_type": "stream",
          "name": "stdout",
          "text": [
            "Puntajes de Precisión en Validación Cruzada:\n",
            "Pliegue 1: 0.99\n",
            "Pliegue 2: 0.99\n",
            "Pliegue 3: 1.00\n",
            "Pliegue 4: 0.99\n",
            "Pliegue 5: 0.99\n",
            "\n",
            "Puntaje Promedio de Precisión en Validación Cruzada: 0.9931273914911\n"
          ]
        }
      ]
    },
    {
      "cell_type": "markdown",
      "metadata": {
        "id": "w4l3qKrKkvn4"
      },
      "source": [
        "# **Conclusiones**"
      ]
    },
    {
      "cell_type": "markdown",
      "metadata": {
        "id": "xO2FKbkek45N"
      },
      "source": [
        "En conclusión, las protestas en Brasil han sido, son, y serán una manifestación significativa de la participación ciudadana y la búsqueda de cambios en diversos aspectos de la sociedad. A lo largo de los años, Brasil ha sido testigo de una amplia gama de protestas que reflejan las preocupaciones y demandas de la población.\n",
        "\n",
        "Estas manifestaciones han abordado temas políticos, sociales, económicos y medioambientales, entre otros. Desde huelgas de camioneros hasta movimientos estudiantiles y protestas contra la violencia policial, las personas han utilizado las protestas como una forma de expresar su descontento, exigir derechos, promover la justicia y luchar por un cambio positivo en el país.\n",
        "\n",
        "Las protestas han demostrado la diversidad y la pluralidad de la sociedad brasileña, al tiempo que han resaltado problemas y desafíos específicos que enfrenta el país. Han generado debates públicos, han puesto temas importantes en la agenda política y han ejercido presión sobre las autoridades para abordar las demandas ciudadanas.\n",
        "\n",
        "Sin embargo, también es importante destacar que las protestas en Brasil a menudo han estado acompañadas de desafíos y tensiones, como la polarización política, la represión y la violencia. Estos aspectos subrayan la complejidad del escenario social y político en el que se desarrollan las manifestaciones.\n",
        "\n",
        "En última instancia, las protestas en Brasil reflejan la vitalidad de la democracia y la participación ciudadana en la búsqueda de un país más justo y equitativo. Si bien algunas demandas pueden resolverse con el tiempo, otras pueden requerir un diálogo continuo, la implementación de políticas efectivas y un compromiso sostenido por parte de los actores involucrados.\n",
        "\n",
        "La comprensión y el respeto de los derechos de libre expresión y reunión son fundamentales para garantizar un entorno propicio para las protestas pacíficas y constructivas, donde las voces de los ciudadanos sean escuchadas y consideradas en la toma de decisiones.\n",
        "\n",
        "Con respecto a los Modelos vemos que :\n",
        "\n",
        "**A)** En el Ramdon Forest con diferentes cantidad de Árboles el ideal y que se Ajusta de la mejor manera para una clasificación en torno al tipo de evento es 100 Árboles.\n",
        "\n",
        "**B)** En tanto el Ramdon Forest con 100 Árboles nos devuelve las siguientes métricas:\n",
        "\n",
        "Precisión del modelo: El modelo generalmente acierta alrededor del 0.98% de las veces, lo que es bastante bueno.\n",
        "\n",
        "Precisión por clase: En promedio, el modelo es correcto en un 0.98% al predecir cada tipo de evento.\n",
        "\n",
        "Recall : El modelo identifica correctamente alrededor del 0.93% de los casos positivos en promedio.\n",
        "\n",
        "F1 Score : En general, el modelo encuentra un equilibrio razonable entre la precisión y la sensibilidad, alrededor del 0.95%.\n",
        "\n",
        "Confusión : se visualizan errores en el que el modelo confunde un tipo de evento con otro.\n",
        "\n",
        "En cuanto a la importancia de cada característica que participa del modelo en resumen tenemos lo siguiente:\n",
        "\n",
        "Fatalities_category: Tiene una importancia de 0.2029. Esto significa que en el contexto del modelo o análisis, la categoría de fatalidades es la característica más importante, con un peso significativamente alto.\n",
        "\n",
        "Por otro lado, la característica con la importancia más baja en la lista proporcionada es SOURCE_SCALE\n",
        "\n",
        "El resto de las demás características se distribuye entre ambas dos.\n",
        "\n",
        "En cuanto a la validación cruzada del modelo, vemos que el puntaje promedio es aproximadamente 0.9293, lo que significa que, en promedio, el modelo logró una precisión del 92.93% en todos los pliegues.\n",
        "\n",
        "**C)** Se entrenó un nuevo modelo, en este caso un SVC lo que nos arrojó los siguientes resultados:\n",
        "\n",
        "Precisión del modelo: El modelo generalmente acierta alrededor del 0.99% de las veces, lo que es bastante bueno.\n",
        "\n",
        "Precisión por clase: En promedio, el modelo es correcto en un 0.98% al predecir cada tipo de evento.\n",
        "\n",
        "Recall : El modelo identifica correctamente alrededor del 0.98% de los casos positivos en promedio.\n",
        "\n",
        "F1 Score : En general, el modelo encuentra un equilibrio razonable entre la precisión y la sensibilidad, alrededor del 0.98%.\n",
        "\n",
        "Confusión : se visualizan errores en el que el modelo confunde un tipo de evento con otro.\n",
        "\n",
        "En cuanto a la importancia de cada característica que participa del modelo en resumen tenemos lo siguiente:\n",
        "\n",
        "NOTES: Tiene la importancia más alta en la lista, con un valor de 0.9425. Esto indica que, en este contexto, las notas son la característica más importante en términos de su capacidad para predecir o explicar resultados.\n",
        "\n",
        "EVENT_DATE: Tiene una importancia de 0.5534. Aunque es una característica importante, su peso es menor en comparación con las notas, por lo que se encuentra en segundo lugar en importancia.\n",
        "\n",
        "Por otro lado, las características con valores negativos pueden tener un impacto adverso en la capacidad del modelo para hacer predicciones precisas\n",
        "\n",
        "En cuanto a la validación cruzada del modelo, vemos que el puntaje promedio es aproximadamente 0.9931, lo que significa que, en promedio, el modelo logró una precisión del 99.31% en todos los pliegues.\n",
        "\n",
        "De esta manera, considero que ambos modelos cumplen las expectativas a la hora de clasificar la variable de tipo de evento.\n"
      ]
    }
  ],
  "metadata": {
    "colab": {
      "toc_visible": true,
      "provenance": [],
      "gpuType": "T4"
    },
    "kernelspec": {
      "display_name": "Python 3",
      "name": "python3"
    },
    "language_info": {
      "name": "python"
    },
    "accelerator": "GPU"
  },
  "nbformat": 4,
  "nbformat_minor": 0
}